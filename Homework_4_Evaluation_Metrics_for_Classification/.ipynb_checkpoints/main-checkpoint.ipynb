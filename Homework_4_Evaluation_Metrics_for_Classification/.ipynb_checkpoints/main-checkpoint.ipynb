{
 "cells": [
  {
   "cell_type": "markdown",
   "id": "35f9c453-0151-47bc-8b2a-dfebefc7c1ff",
   "metadata": {},
   "source": [
    "#### Dataset"
   ]
  },
  {
   "cell_type": "code",
   "execution_count": 1,
   "id": "5600ba84-0f86-404f-9557-39026759188d",
   "metadata": {},
   "outputs": [],
   "source": [
    "import pandas as pd\n",
    "import numpy as np\n",
    "import seaborn as sns\n",
    "import matplotlib.pyplot as plt\n",
    "\n",
    "from IPython.display import display\n",
    "\n",
    "from sklearn.model_selection import train_test_split\n",
    "from sklearn.model_selection import KFold\n",
    "\n",
    "from sklearn.feature_extraction import DictVectorizer\n",
    "from sklearn.linear_model import LogisticRegression\n",
    "\n",
    "from sklearn.metrics import mutual_info_score\n",
    "from sklearn.metrics import accuracy_score\n",
    "from sklearn.metrics import roc_curve\n",
    "from sklearn.metrics import auc\n",
    "from sklearn.metrics import roc_auc_score"
   ]
  },
  {
   "cell_type": "code",
   "execution_count": 2,
   "id": "26373271-d5b5-4110-990e-1869d084ee85",
   "metadata": {},
   "outputs": [
    {
     "data": {
      "text/html": [
       "<div>\n",
       "<style scoped>\n",
       "    .dataframe tbody tr th:only-of-type {\n",
       "        vertical-align: middle;\n",
       "    }\n",
       "\n",
       "    .dataframe tbody tr th {\n",
       "        vertical-align: top;\n",
       "    }\n",
       "\n",
       "    .dataframe thead th {\n",
       "        text-align: right;\n",
       "    }\n",
       "</style>\n",
       "<table border=\"1\" class=\"dataframe\">\n",
       "  <thead>\n",
       "    <tr style=\"text-align: right;\">\n",
       "      <th></th>\n",
       "      <th>age</th>\n",
       "      <th>job</th>\n",
       "      <th>marital</th>\n",
       "      <th>education</th>\n",
       "      <th>default</th>\n",
       "      <th>balance</th>\n",
       "      <th>housing</th>\n",
       "      <th>loan</th>\n",
       "      <th>contact</th>\n",
       "      <th>day</th>\n",
       "      <th>month</th>\n",
       "      <th>duration</th>\n",
       "      <th>campaign</th>\n",
       "      <th>pdays</th>\n",
       "      <th>previous</th>\n",
       "      <th>poutcome</th>\n",
       "      <th>y</th>\n",
       "    </tr>\n",
       "  </thead>\n",
       "  <tbody>\n",
       "    <tr>\n",
       "      <th>0</th>\n",
       "      <td>58</td>\n",
       "      <td>management</td>\n",
       "      <td>married</td>\n",
       "      <td>tertiary</td>\n",
       "      <td>no</td>\n",
       "      <td>2143</td>\n",
       "      <td>yes</td>\n",
       "      <td>no</td>\n",
       "      <td>unknown</td>\n",
       "      <td>5</td>\n",
       "      <td>may</td>\n",
       "      <td>261</td>\n",
       "      <td>1</td>\n",
       "      <td>-1</td>\n",
       "      <td>0</td>\n",
       "      <td>unknown</td>\n",
       "      <td>no</td>\n",
       "    </tr>\n",
       "    <tr>\n",
       "      <th>1</th>\n",
       "      <td>44</td>\n",
       "      <td>technician</td>\n",
       "      <td>single</td>\n",
       "      <td>secondary</td>\n",
       "      <td>no</td>\n",
       "      <td>29</td>\n",
       "      <td>yes</td>\n",
       "      <td>no</td>\n",
       "      <td>unknown</td>\n",
       "      <td>5</td>\n",
       "      <td>may</td>\n",
       "      <td>151</td>\n",
       "      <td>1</td>\n",
       "      <td>-1</td>\n",
       "      <td>0</td>\n",
       "      <td>unknown</td>\n",
       "      <td>no</td>\n",
       "    </tr>\n",
       "    <tr>\n",
       "      <th>2</th>\n",
       "      <td>33</td>\n",
       "      <td>entrepreneur</td>\n",
       "      <td>married</td>\n",
       "      <td>secondary</td>\n",
       "      <td>no</td>\n",
       "      <td>2</td>\n",
       "      <td>yes</td>\n",
       "      <td>yes</td>\n",
       "      <td>unknown</td>\n",
       "      <td>5</td>\n",
       "      <td>may</td>\n",
       "      <td>76</td>\n",
       "      <td>1</td>\n",
       "      <td>-1</td>\n",
       "      <td>0</td>\n",
       "      <td>unknown</td>\n",
       "      <td>no</td>\n",
       "    </tr>\n",
       "    <tr>\n",
       "      <th>3</th>\n",
       "      <td>47</td>\n",
       "      <td>blue-collar</td>\n",
       "      <td>married</td>\n",
       "      <td>unknown</td>\n",
       "      <td>no</td>\n",
       "      <td>1506</td>\n",
       "      <td>yes</td>\n",
       "      <td>no</td>\n",
       "      <td>unknown</td>\n",
       "      <td>5</td>\n",
       "      <td>may</td>\n",
       "      <td>92</td>\n",
       "      <td>1</td>\n",
       "      <td>-1</td>\n",
       "      <td>0</td>\n",
       "      <td>unknown</td>\n",
       "      <td>no</td>\n",
       "    </tr>\n",
       "    <tr>\n",
       "      <th>4</th>\n",
       "      <td>33</td>\n",
       "      <td>unknown</td>\n",
       "      <td>single</td>\n",
       "      <td>unknown</td>\n",
       "      <td>no</td>\n",
       "      <td>1</td>\n",
       "      <td>no</td>\n",
       "      <td>no</td>\n",
       "      <td>unknown</td>\n",
       "      <td>5</td>\n",
       "      <td>may</td>\n",
       "      <td>198</td>\n",
       "      <td>1</td>\n",
       "      <td>-1</td>\n",
       "      <td>0</td>\n",
       "      <td>unknown</td>\n",
       "      <td>no</td>\n",
       "    </tr>\n",
       "  </tbody>\n",
       "</table>\n",
       "</div>"
      ],
      "text/plain": [
       "   age           job  marital  education default  balance housing loan  \\\n",
       "0   58    management  married   tertiary      no     2143     yes   no   \n",
       "1   44    technician   single  secondary      no       29     yes   no   \n",
       "2   33  entrepreneur  married  secondary      no        2     yes  yes   \n",
       "3   47   blue-collar  married    unknown      no     1506     yes   no   \n",
       "4   33       unknown   single    unknown      no        1      no   no   \n",
       "\n",
       "   contact  day month  duration  campaign  pdays  previous poutcome   y  \n",
       "0  unknown    5   may       261         1     -1         0  unknown  no  \n",
       "1  unknown    5   may       151         1     -1         0  unknown  no  \n",
       "2  unknown    5   may        76         1     -1         0  unknown  no  \n",
       "3  unknown    5   may        92         1     -1         0  unknown  no  \n",
       "4  unknown    5   may       198         1     -1         0  unknown  no  "
      ]
     },
     "execution_count": 2,
     "metadata": {},
     "output_type": "execute_result"
    }
   ],
   "source": [
    "data = pd.read_csv('bank-full.csv', delimiter=';')\n",
    "data.head()"
   ]
  },
  {
   "cell_type": "code",
   "execution_count": 3,
   "id": "81cf7aed-87cc-47e8-85ac-a13698e2d76d",
   "metadata": {},
   "outputs": [
    {
     "name": "stdout",
     "output_type": "stream",
     "text": [
      "<class 'pandas.core.frame.DataFrame'>\n",
      "RangeIndex: 45211 entries, 0 to 45210\n",
      "Data columns (total 17 columns):\n",
      " #   Column     Non-Null Count  Dtype \n",
      "---  ------     --------------  ----- \n",
      " 0   age        45211 non-null  int64 \n",
      " 1   job        45211 non-null  object\n",
      " 2   marital    45211 non-null  object\n",
      " 3   education  45211 non-null  object\n",
      " 4   default    45211 non-null  object\n",
      " 5   balance    45211 non-null  int64 \n",
      " 6   housing    45211 non-null  object\n",
      " 7   loan       45211 non-null  object\n",
      " 8   contact    45211 non-null  object\n",
      " 9   day        45211 non-null  int64 \n",
      " 10  month      45211 non-null  object\n",
      " 11  duration   45211 non-null  int64 \n",
      " 12  campaign   45211 non-null  int64 \n",
      " 13  pdays      45211 non-null  int64 \n",
      " 14  previous   45211 non-null  int64 \n",
      " 15  poutcome   45211 non-null  object\n",
      " 16  y          45211 non-null  object\n",
      "dtypes: int64(7), object(10)\n",
      "memory usage: 5.9+ MB\n"
     ]
    }
   ],
   "source": [
    "data.info()"
   ]
  },
  {
   "cell_type": "markdown",
   "id": "86f7bfff-65c2-4c0d-88d4-508ab7cb6ee1",
   "metadata": {},
   "source": [
    "#### Data preparation"
   ]
  },
  {
   "cell_type": "code",
   "execution_count": 4,
   "id": "cd2664c6-0a08-4b10-9f7a-de44402a0671",
   "metadata": {},
   "outputs": [
    {
     "data": {
      "text/html": [
       "<div>\n",
       "<style scoped>\n",
       "    .dataframe tbody tr th:only-of-type {\n",
       "        vertical-align: middle;\n",
       "    }\n",
       "\n",
       "    .dataframe tbody tr th {\n",
       "        vertical-align: top;\n",
       "    }\n",
       "\n",
       "    .dataframe thead th {\n",
       "        text-align: right;\n",
       "    }\n",
       "</style>\n",
       "<table border=\"1\" class=\"dataframe\">\n",
       "  <thead>\n",
       "    <tr style=\"text-align: right;\">\n",
       "      <th></th>\n",
       "      <th>age</th>\n",
       "      <th>job</th>\n",
       "      <th>marital</th>\n",
       "      <th>education</th>\n",
       "      <th>balance</th>\n",
       "      <th>housing</th>\n",
       "      <th>contact</th>\n",
       "      <th>day</th>\n",
       "      <th>month</th>\n",
       "      <th>duration</th>\n",
       "      <th>campaign</th>\n",
       "      <th>pdays</th>\n",
       "      <th>previous</th>\n",
       "      <th>poutcome</th>\n",
       "      <th>y</th>\n",
       "    </tr>\n",
       "  </thead>\n",
       "  <tbody>\n",
       "    <tr>\n",
       "      <th>0</th>\n",
       "      <td>58</td>\n",
       "      <td>management</td>\n",
       "      <td>married</td>\n",
       "      <td>tertiary</td>\n",
       "      <td>2143</td>\n",
       "      <td>yes</td>\n",
       "      <td>unknown</td>\n",
       "      <td>5</td>\n",
       "      <td>may</td>\n",
       "      <td>261</td>\n",
       "      <td>1</td>\n",
       "      <td>-1</td>\n",
       "      <td>0</td>\n",
       "      <td>unknown</td>\n",
       "      <td>no</td>\n",
       "    </tr>\n",
       "    <tr>\n",
       "      <th>1</th>\n",
       "      <td>44</td>\n",
       "      <td>technician</td>\n",
       "      <td>single</td>\n",
       "      <td>secondary</td>\n",
       "      <td>29</td>\n",
       "      <td>yes</td>\n",
       "      <td>unknown</td>\n",
       "      <td>5</td>\n",
       "      <td>may</td>\n",
       "      <td>151</td>\n",
       "      <td>1</td>\n",
       "      <td>-1</td>\n",
       "      <td>0</td>\n",
       "      <td>unknown</td>\n",
       "      <td>no</td>\n",
       "    </tr>\n",
       "    <tr>\n",
       "      <th>2</th>\n",
       "      <td>33</td>\n",
       "      <td>entrepreneur</td>\n",
       "      <td>married</td>\n",
       "      <td>secondary</td>\n",
       "      <td>2</td>\n",
       "      <td>yes</td>\n",
       "      <td>unknown</td>\n",
       "      <td>5</td>\n",
       "      <td>may</td>\n",
       "      <td>76</td>\n",
       "      <td>1</td>\n",
       "      <td>-1</td>\n",
       "      <td>0</td>\n",
       "      <td>unknown</td>\n",
       "      <td>no</td>\n",
       "    </tr>\n",
       "    <tr>\n",
       "      <th>3</th>\n",
       "      <td>47</td>\n",
       "      <td>blue-collar</td>\n",
       "      <td>married</td>\n",
       "      <td>unknown</td>\n",
       "      <td>1506</td>\n",
       "      <td>yes</td>\n",
       "      <td>unknown</td>\n",
       "      <td>5</td>\n",
       "      <td>may</td>\n",
       "      <td>92</td>\n",
       "      <td>1</td>\n",
       "      <td>-1</td>\n",
       "      <td>0</td>\n",
       "      <td>unknown</td>\n",
       "      <td>no</td>\n",
       "    </tr>\n",
       "    <tr>\n",
       "      <th>4</th>\n",
       "      <td>33</td>\n",
       "      <td>unknown</td>\n",
       "      <td>single</td>\n",
       "      <td>unknown</td>\n",
       "      <td>1</td>\n",
       "      <td>no</td>\n",
       "      <td>unknown</td>\n",
       "      <td>5</td>\n",
       "      <td>may</td>\n",
       "      <td>198</td>\n",
       "      <td>1</td>\n",
       "      <td>-1</td>\n",
       "      <td>0</td>\n",
       "      <td>unknown</td>\n",
       "      <td>no</td>\n",
       "    </tr>\n",
       "  </tbody>\n",
       "</table>\n",
       "</div>"
      ],
      "text/plain": [
       "   age           job  marital  education  balance housing  contact  day month  \\\n",
       "0   58    management  married   tertiary     2143     yes  unknown    5   may   \n",
       "1   44    technician   single  secondary       29     yes  unknown    5   may   \n",
       "2   33  entrepreneur  married  secondary        2     yes  unknown    5   may   \n",
       "3   47   blue-collar  married    unknown     1506     yes  unknown    5   may   \n",
       "4   33       unknown   single    unknown        1      no  unknown    5   may   \n",
       "\n",
       "   duration  campaign  pdays  previous poutcome   y  \n",
       "0       261         1     -1         0  unknown  no  \n",
       "1       151         1     -1         0  unknown  no  \n",
       "2        76         1     -1         0  unknown  no  \n",
       "3        92         1     -1         0  unknown  no  \n",
       "4       198         1     -1         0  unknown  no  "
      ]
     },
     "execution_count": 4,
     "metadata": {},
     "output_type": "execute_result"
    }
   ],
   "source": [
    "required_features = [\n",
    "    'age',\n",
    "    'job',\n",
    "    'marital',\n",
    "    'education',\n",
    "    'balance',\n",
    "    'housing',\n",
    "    'contact',\n",
    "    'day',\n",
    "    'month',\n",
    "    'duration',\n",
    "    'campaign',\n",
    "    'pdays',\n",
    "    'previous',\n",
    "    'poutcome',\n",
    "    'y'\n",
    "]\n",
    "\n",
    "data = data[required_features]\n",
    "data.head()"
   ]
  },
  {
   "cell_type": "code",
   "execution_count": 5,
   "id": "34c825c8-8eb4-49df-9edb-d3f488eb5c97",
   "metadata": {},
   "outputs": [
    {
     "data": {
      "text/plain": [
       "y\n",
       "no     39922\n",
       "yes     5289\n",
       "Name: count, dtype: int64"
      ]
     },
     "execution_count": 5,
     "metadata": {},
     "output_type": "execute_result"
    }
   ],
   "source": [
    "data['y'].value_counts()"
   ]
  },
  {
   "cell_type": "code",
   "execution_count": 6,
   "id": "71443a96-7657-404a-b6b8-4f41c6400167",
   "metadata": {},
   "outputs": [
    {
     "data": {
      "text/plain": [
       "y\n",
       "0    39922\n",
       "1     5289\n",
       "Name: count, dtype: int64"
      ]
     },
     "execution_count": 6,
     "metadata": {},
     "output_type": "execute_result"
    }
   ],
   "source": [
    "data.y = (data.y == 'yes').astype(int)\n",
    "data['y'].value_counts()"
   ]
  },
  {
   "cell_type": "code",
   "execution_count": 7,
   "id": "b3eace1e-6ce6-4bbe-a1f3-55ffa8c7b2ea",
   "metadata": {},
   "outputs": [
    {
     "name": "stdout",
     "output_type": "stream",
     "text": [
      "job:\n",
      "['management' 'technician' 'entrepreneur' 'blue-collar' 'unknown'\n",
      " 'retired' 'admin.' 'services' 'self-employed' 'unemployed' 'housemaid'\n",
      " 'student']\n",
      "marital:\n",
      "['married' 'single' 'divorced']\n",
      "education:\n",
      "['tertiary' 'secondary' 'unknown' 'primary']\n",
      "housing:\n",
      "['yes' 'no']\n",
      "contact:\n",
      "['unknown' 'cellular' 'telephone']\n",
      "month:\n",
      "['may' 'jun' 'jul' 'aug' 'oct' 'nov' 'dec' 'jan' 'feb' 'mar' 'apr' 'sep']\n",
      "poutcome:\n",
      "['unknown' 'failure' 'other' 'success']\n"
     ]
    }
   ],
   "source": [
    "categorical_features = list(data.dtypes[data.dtypes == 'object'].index)\n",
    "for col in categorical_features:\n",
    "    print(f'{col}:')\n",
    "    print(data[col].unique())"
   ]
  },
  {
   "cell_type": "code",
   "execution_count": 8,
   "id": "b53fdbee-aeed-4fb7-bb17-22659f1fe2ab",
   "metadata": {},
   "outputs": [
    {
     "name": "stdout",
     "output_type": "stream",
     "text": [
      "age: 77\n",
      "balance: 7168\n",
      "day: 31\n",
      "duration: 1573\n",
      "campaign: 48\n",
      "pdays: 559\n",
      "previous: 41\n",
      "y: 2\n"
     ]
    }
   ],
   "source": [
    "numerical_features = list(data.dtypes[data.dtypes != 'object'].index)\n",
    "for col in numerical_features:\n",
    "    print(f'{col}:', data[col].nunique())"
   ]
  },
  {
   "cell_type": "code",
   "execution_count": 9,
   "id": "f76e3094-d5e3-4441-b838-1b4b116a84a1",
   "metadata": {},
   "outputs": [
    {
     "data": {
      "text/plain": [
       "(45211, 15)"
      ]
     },
     "execution_count": 9,
     "metadata": {},
     "output_type": "execute_result"
    }
   ],
   "source": [
    "data.shape"
   ]
  },
  {
   "cell_type": "code",
   "execution_count": 10,
   "id": "177552ed-8881-4ead-8ebb-3363884576a3",
   "metadata": {},
   "outputs": [
    {
     "name": "stdout",
     "output_type": "stream",
     "text": [
      "df_full_train:  36168\n",
      "df_train:  27126\n",
      "df_val:  9042\n",
      "df_test:  9043\n"
     ]
    }
   ],
   "source": [
    "df_full_train, df_test = train_test_split(data, test_size=0.2, random_state=1)\n",
    "df_train, df_val = train_test_split(df_full_train, test_size=0.25, random_state=1)\n",
    "\n",
    "print(\"df_full_train: \", len(df_full_train))\n",
    "print(\"df_train: \", len(df_train))\n",
    "print(\"df_val: \", len(df_val))\n",
    "print(\"df_test: \", len(df_test))"
   ]
  },
  {
   "cell_type": "code",
   "execution_count": 11,
   "id": "9112a998-9c8d-40ab-acb9-47d5ff35f881",
   "metadata": {},
   "outputs": [],
   "source": [
    "df_full_train = df_full_train.reset_index(drop=True)\n",
    "df_train = df_train.reset_index(drop=True)\n",
    "df_val = df_val.reset_index(drop=True)\n",
    "df_test = df_test.reset_index(drop=True)"
   ]
  },
  {
   "cell_type": "code",
   "execution_count": 12,
   "id": "363f8a34-4bea-45bb-85d5-70ce51d00731",
   "metadata": {},
   "outputs": [],
   "source": [
    "y_train = df_train.y.values\n",
    "y_val = df_val.y.values\n",
    "y_test = df_test.y.values\n",
    "\n",
    "del df_train['y']\n",
    "del df_val['y']\n",
    "del df_test['y']"
   ]
  },
  {
   "cell_type": "markdown",
   "id": "210740b5-a772-41f7-ba6a-bea2376c2ead",
   "metadata": {},
   "source": [
    "#### Question 1: ROC AUC feature importance"
   ]
  },
  {
   "cell_type": "code",
   "execution_count": 13,
   "id": "8567cb16-c6f8-47a3-8e82-6ba17b76469f",
   "metadata": {
    "scrolled": true
   },
   "outputs": [
    {
     "name": "stdout",
     "output_type": "stream",
     "text": [
      "age: 0.512185717527344\n",
      "balance: 0.5888313805382317\n",
      "day: 0.525957882383908\n",
      "duration: 0.8147002759670778\n",
      "campaign: 0.5714543015682159\n",
      "pdays: 0.5901276247352144\n",
      "previous: 0.5985653242764153\n"
     ]
    }
   ],
   "source": [
    "numerical_variables = ['age', 'balance', 'day', 'duration', 'campaign', 'pdays', 'previous']\n",
    "for variable in numerical_variables:\n",
    "    score = roc_auc_score(y_train, df_train[variable])\n",
    "    if score < 0.5:\n",
    "        score = roc_auc_score(y_train, -df_train[variable])  \n",
    "    print(f'{variable}: {score}')"
   ]
  },
  {
   "cell_type": "markdown",
   "id": "b1d303e9-e4a7-4341-95d0-9ce5c67db184",
   "metadata": {},
   "source": [
    "#### Question 2: Training the model"
   ]
  },
  {
   "cell_type": "code",
   "execution_count": 14,
   "id": "2be3fff4-a0c5-426f-b8d8-2753524617c6",
   "metadata": {},
   "outputs": [],
   "source": [
    "dv = DictVectorizer(sparse=False)\n",
    "\n",
    "train_dict = df_train.to_dict(orient='records')\n",
    "val_dict = df_val.to_dict(orient='records')\n",
    "dv.fit(train_dict)\n",
    "\n",
    "X_train = dv.transform(train_dict)\n",
    "X_val = dv.transform(val_dict)\n",
    "\n",
    "model = LogisticRegression(solver='liblinear', C=1.0, max_iter=1000)\n",
    "model.fit(X_train, y_train)\n",
    "y_pred = model.predict_proba(X_val)[:, 1]"
   ]
  },
  {
   "cell_type": "code",
   "execution_count": 15,
   "id": "523fa552-3235-4b91-a622-4cab551fd644",
   "metadata": {},
   "outputs": [
    {
     "data": {
      "text/plain": [
       "0.900416187446919"
      ]
     },
     "execution_count": 15,
     "metadata": {},
     "output_type": "execute_result"
    }
   ],
   "source": [
    "roc_auc_score(y_val, y_pred)"
   ]
  },
  {
   "cell_type": "markdown",
   "id": "b4ff3083-e8a2-4789-b867-bd6b8d1d278b",
   "metadata": {},
   "source": [
    "#### Question 3: Precision and Recall"
   ]
  },
  {
   "cell_type": "code",
   "execution_count": 16,
   "id": "fc6d216d-f65a-4509-9419-3b6964811dc6",
   "metadata": {},
   "outputs": [
    {
     "data": {
      "text/plain": [
       "[(0.0, 1098, 0, 7944, 0),\n",
       " (0.01, 1094, 940, 7004, 4),\n",
       " (0.02, 1093, 2156, 5788, 5),\n",
       " (0.03, 1087, 3202, 4742, 11),\n",
       " (0.04, 1068, 4144, 3800, 30),\n",
       " (0.05, 1048, 4871, 3073, 50),\n",
       " (0.06, 1020, 5434, 2510, 78),\n",
       " (0.07, 993, 5803, 2141, 105),\n",
       " (0.08, 969, 6085, 1859, 129),\n",
       " (0.09, 945, 6311, 1633, 153),\n",
       " (0.1, 927, 6451, 1493, 171),\n",
       " (0.11, 899, 6588, 1356, 199),\n",
       " (0.12, 862, 6727, 1217, 236),\n",
       " (0.13, 836, 6828, 1116, 262),\n",
       " (0.14, 816, 6906, 1038, 282),\n",
       " (0.15, 798, 6970, 974, 300),\n",
       " (0.16, 781, 7050, 894, 317),\n",
       " (0.17, 763, 7103, 841, 335),\n",
       " (0.18, 744, 7163, 781, 354),\n",
       " (0.19, 727, 7214, 730, 371),\n",
       " (0.2, 712, 7252, 692, 386),\n",
       " (0.21, 696, 7291, 653, 402),\n",
       " (0.22, 686, 7333, 611, 412),\n",
       " (0.23, 667, 7371, 573, 431),\n",
       " (0.24, 648, 7394, 550, 450),\n",
       " (0.25, 635, 7429, 515, 463),\n",
       " (0.26, 619, 7450, 494, 479),\n",
       " (0.27, 603, 7476, 468, 495),\n",
       " (0.28, 593, 7495, 449, 505),\n",
       " (0.29, 578, 7511, 433, 520),\n",
       " (0.3, 565, 7536, 408, 533),\n",
       " (0.31, 553, 7551, 393, 545),\n",
       " (0.32, 546, 7569, 375, 552),\n",
       " (0.33, 531, 7584, 360, 567),\n",
       " (0.34, 520, 7598, 346, 578),\n",
       " (0.35000000000000003, 510, 7610, 334, 588),\n",
       " (0.36, 501, 7622, 322, 597),\n",
       " (0.37, 492, 7637, 307, 606),\n",
       " (0.38, 478, 7646, 298, 620),\n",
       " (0.39, 470, 7657, 287, 628),\n",
       " (0.4, 462, 7672, 272, 636),\n",
       " (0.41000000000000003, 450, 7681, 263, 648),\n",
       " (0.42, 442, 7691, 253, 656),\n",
       " (0.43, 430, 7701, 243, 668),\n",
       " (0.44, 423, 7705, 239, 675),\n",
       " (0.45, 411, 7708, 236, 687),\n",
       " (0.46, 405, 7717, 227, 693),\n",
       " (0.47000000000000003, 394, 7728, 216, 704),\n",
       " (0.48, 388, 7736, 208, 710),\n",
       " (0.49, 379, 7743, 201, 719),\n",
       " (0.5, 373, 7752, 192, 725),\n",
       " (0.51, 362, 7756, 188, 736),\n",
       " (0.52, 355, 7761, 183, 743),\n",
       " (0.53, 349, 7769, 175, 749),\n",
       " (0.54, 339, 7776, 168, 759),\n",
       " (0.55, 326, 7782, 162, 772),\n",
       " (0.56, 321, 7789, 155, 777),\n",
       " (0.5700000000000001, 316, 7793, 151, 782),\n",
       " (0.58, 309, 7797, 147, 789),\n",
       " (0.59, 301, 7803, 141, 797),\n",
       " (0.6, 291, 7807, 137, 807),\n",
       " (0.61, 282, 7815, 129, 816),\n",
       " (0.62, 275, 7819, 125, 823),\n",
       " (0.63, 269, 7825, 119, 829),\n",
       " (0.64, 265, 7828, 116, 833),\n",
       " (0.65, 258, 7831, 113, 840),\n",
       " (0.66, 249, 7831, 113, 849),\n",
       " (0.67, 244, 7835, 109, 854),\n",
       " (0.68, 235, 7836, 108, 863),\n",
       " (0.6900000000000001, 228, 7839, 105, 870),\n",
       " (0.7000000000000001, 225, 7843, 101, 873),\n",
       " (0.71, 216, 7844, 100, 882),\n",
       " (0.72, 212, 7848, 96, 886),\n",
       " (0.73, 207, 7854, 90, 891),\n",
       " (0.74, 202, 7860, 84, 896),\n",
       " (0.75, 192, 7861, 83, 906),\n",
       " (0.76, 181, 7866, 78, 917),\n",
       " (0.77, 173, 7871, 73, 925),\n",
       " (0.78, 167, 7871, 73, 931),\n",
       " (0.79, 158, 7872, 72, 940),\n",
       " (0.8, 148, 7877, 67, 950),\n",
       " (0.81, 141, 7881, 63, 957),\n",
       " (0.8200000000000001, 133, 7882, 62, 965),\n",
       " (0.8300000000000001, 126, 7887, 57, 972),\n",
       " (0.84, 121, 7893, 51, 977),\n",
       " (0.85, 112, 7897, 47, 986),\n",
       " (0.86, 104, 7901, 43, 994),\n",
       " (0.87, 96, 7906, 38, 1002),\n",
       " (0.88, 89, 7907, 37, 1009),\n",
       " (0.89, 82, 7912, 32, 1016),\n",
       " (0.9, 76, 7917, 27, 1022),\n",
       " (0.91, 68, 7918, 26, 1030),\n",
       " (0.92, 60, 7920, 24, 1038),\n",
       " (0.93, 51, 7922, 22, 1047),\n",
       " (0.9400000000000001, 45, 7923, 21, 1053),\n",
       " (0.9500000000000001, 40, 7925, 19, 1058),\n",
       " (0.96, 30, 7927, 17, 1068),\n",
       " (0.97, 25, 7929, 15, 1073),\n",
       " (0.98, 21, 7934, 10, 1077),\n",
       " (0.99, 11, 7939, 5, 1087),\n",
       " (1.0, 0, 7944, 0, 1098)]"
      ]
     },
     "execution_count": 16,
     "metadata": {},
     "output_type": "execute_result"
    }
   ],
   "source": [
    "scores = []\n",
    "thresholds = np.linspace(0, 1, 101)\n",
    "\n",
    "for t in thresholds:\n",
    "    actual_positive = (y_val == 1)\n",
    "    actual_negative = (y_val == 0)\n",
    " \n",
    "    predict_positive = (y_pred >= t)\n",
    "    predict_negative = (y_pred < t)\n",
    " \n",
    "    tp = (predict_positive & actual_positive).sum()\n",
    "    tn = (predict_negative & actual_negative).sum()\n",
    " \n",
    "    fp = (predict_positive & actual_negative).sum()\n",
    "    fn = (predict_negative & actual_positive).sum()\n",
    " \n",
    "    scores.append((t, tp, tn, fp, fn))\n",
    " \n",
    "scores"
   ]
  },
  {
   "cell_type": "code",
   "execution_count": 17,
   "id": "5a6cc940-fb7e-4587-853b-f66db92ec380",
   "metadata": {},
   "outputs": [
    {
     "data": {
      "text/html": [
       "<div>\n",
       "<style scoped>\n",
       "    .dataframe tbody tr th:only-of-type {\n",
       "        vertical-align: middle;\n",
       "    }\n",
       "\n",
       "    .dataframe tbody tr th {\n",
       "        vertical-align: top;\n",
       "    }\n",
       "\n",
       "    .dataframe thead th {\n",
       "        text-align: right;\n",
       "    }\n",
       "</style>\n",
       "<table border=\"1\" class=\"dataframe\">\n",
       "  <thead>\n",
       "    <tr style=\"text-align: right;\">\n",
       "      <th></th>\n",
       "      <th>threshold</th>\n",
       "      <th>tp</th>\n",
       "      <th>tn</th>\n",
       "      <th>fp</th>\n",
       "      <th>fn</th>\n",
       "      <th>precision</th>\n",
       "      <th>recall</th>\n",
       "    </tr>\n",
       "  </thead>\n",
       "  <tbody>\n",
       "    <tr>\n",
       "      <th>0</th>\n",
       "      <td>0.00</td>\n",
       "      <td>1098</td>\n",
       "      <td>0</td>\n",
       "      <td>7944</td>\n",
       "      <td>0</td>\n",
       "      <td>0.121433</td>\n",
       "      <td>1.000000</td>\n",
       "    </tr>\n",
       "    <tr>\n",
       "      <th>1</th>\n",
       "      <td>0.01</td>\n",
       "      <td>1094</td>\n",
       "      <td>940</td>\n",
       "      <td>7004</td>\n",
       "      <td>4</td>\n",
       "      <td>0.135095</td>\n",
       "      <td>0.996357</td>\n",
       "    </tr>\n",
       "    <tr>\n",
       "      <th>2</th>\n",
       "      <td>0.02</td>\n",
       "      <td>1093</td>\n",
       "      <td>2156</td>\n",
       "      <td>5788</td>\n",
       "      <td>5</td>\n",
       "      <td>0.158843</td>\n",
       "      <td>0.995446</td>\n",
       "    </tr>\n",
       "    <tr>\n",
       "      <th>3</th>\n",
       "      <td>0.03</td>\n",
       "      <td>1087</td>\n",
       "      <td>3202</td>\n",
       "      <td>4742</td>\n",
       "      <td>11</td>\n",
       "      <td>0.186481</td>\n",
       "      <td>0.989982</td>\n",
       "    </tr>\n",
       "    <tr>\n",
       "      <th>4</th>\n",
       "      <td>0.04</td>\n",
       "      <td>1068</td>\n",
       "      <td>4144</td>\n",
       "      <td>3800</td>\n",
       "      <td>30</td>\n",
       "      <td>0.219392</td>\n",
       "      <td>0.972678</td>\n",
       "    </tr>\n",
       "  </tbody>\n",
       "</table>\n",
       "</div>"
      ],
      "text/plain": [
       "   threshold    tp    tn    fp  fn  precision    recall\n",
       "0       0.00  1098     0  7944   0   0.121433  1.000000\n",
       "1       0.01  1094   940  7004   4   0.135095  0.996357\n",
       "2       0.02  1093  2156  5788   5   0.158843  0.995446\n",
       "3       0.03  1087  3202  4742  11   0.186481  0.989982\n",
       "4       0.04  1068  4144  3800  30   0.219392  0.972678"
      ]
     },
     "execution_count": 17,
     "metadata": {},
     "output_type": "execute_result"
    }
   ],
   "source": [
    "columns = ['threshold', 'tp', 'tn', 'fp', 'fn']\n",
    "df_scores = pd.DataFrame(scores, columns=columns)\n",
    "df_scores['precision'] = df_scores.tp / (df_scores.tp + df_scores.fp)\n",
    "df_scores['recall'] = df_scores.tp / (df_scores.tp + df_scores.fn)\n",
    "df_scores.head()"
   ]
  },
  {
   "cell_type": "code",
   "execution_count": 18,
   "id": "3b3753a0-ffa8-4857-b989-6d817b2fdeea",
   "metadata": {},
   "outputs": [
    {
     "data": {
      "text/html": [
       "<div>\n",
       "<style scoped>\n",
       "    .dataframe tbody tr th:only-of-type {\n",
       "        vertical-align: middle;\n",
       "    }\n",
       "\n",
       "    .dataframe tbody tr th {\n",
       "        vertical-align: top;\n",
       "    }\n",
       "\n",
       "    .dataframe thead th {\n",
       "        text-align: right;\n",
       "    }\n",
       "</style>\n",
       "<table border=\"1\" class=\"dataframe\">\n",
       "  <thead>\n",
       "    <tr style=\"text-align: right;\">\n",
       "      <th></th>\n",
       "      <th>threshold</th>\n",
       "      <th>tp</th>\n",
       "      <th>tn</th>\n",
       "      <th>fp</th>\n",
       "      <th>fn</th>\n",
       "      <th>precision</th>\n",
       "      <th>recall</th>\n",
       "    </tr>\n",
       "  </thead>\n",
       "  <tbody>\n",
       "    <tr>\n",
       "      <th>26</th>\n",
       "      <td>0.26</td>\n",
       "      <td>619</td>\n",
       "      <td>7450</td>\n",
       "      <td>494</td>\n",
       "      <td>479</td>\n",
       "      <td>0.556155</td>\n",
       "      <td>0.563752</td>\n",
       "    </tr>\n",
       "  </tbody>\n",
       "</table>\n",
       "</div>"
      ],
      "text/plain": [
       "    threshold   tp    tn   fp   fn  precision    recall\n",
       "26       0.26  619  7450  494  479   0.556155  0.563752"
      ]
     },
     "execution_count": 18,
     "metadata": {},
     "output_type": "execute_result"
    }
   ],
   "source": [
    "df_scores[round(df_scores.precision, 2) == round(df_scores.recall, 2)]"
   ]
  },
  {
   "cell_type": "code",
   "execution_count": 19,
   "id": "5e9d95b8-1483-4389-a51d-8fc4851de10e",
   "metadata": {},
   "outputs": [
    {
     "data": {
      "image/png": "[encoded data removed]",
      "text/plain": [
       "<Figure size 640x480 with 1 Axes>"
      ]
     },
     "metadata": {},
     "output_type": "display_data"
    }
   ],
   "source": [
    "plt.plot(df_scores.threshold, df_scores.precision, label='precision')\n",
    "plt.plot(df_scores.threshold, df_scores.recall, label='recall')\n",
    "plt.legend()\n",
    "plt.show()"
   ]
  },
  {
   "cell_type": "markdown",
   "id": "2a7145d8-6408-465b-ac50-ed5592cf82cf",
   "metadata": {},
   "source": [
    "#### Question 4: F1 score"
   ]
  },
  {
   "cell_type": "code",
   "execution_count": 20,
   "id": "86a87821-92fe-405a-a468-d0360646aae9",
   "metadata": {},
   "outputs": [],
   "source": [
    "df_scores['f1'] = 2 * ( (df_scores.precision * df_scores.recall) / (df_scores.precision + df_scores.recall))"
   ]
  },
  {
   "cell_type": "code",
   "execution_count": 21,
   "id": "928b9d8c-9fc7-4f61-a318-90177dc1d711",
   "metadata": {},
   "outputs": [
    {
     "data": {
      "text/html": [
       "<div>\n",
       "<style scoped>\n",
       "    .dataframe tbody tr th:only-of-type {\n",
       "        vertical-align: middle;\n",
       "    }\n",
       "\n",
       "    .dataframe tbody tr th {\n",
       "        vertical-align: top;\n",
       "    }\n",
       "\n",
       "    .dataframe thead th {\n",
       "        text-align: right;\n",
       "    }\n",
       "</style>\n",
       "<table border=\"1\" class=\"dataframe\">\n",
       "  <thead>\n",
       "    <tr style=\"text-align: right;\">\n",
       "      <th></th>\n",
       "      <th>threshold</th>\n",
       "      <th>tp</th>\n",
       "      <th>tn</th>\n",
       "      <th>fp</th>\n",
       "      <th>fn</th>\n",
       "      <th>precision</th>\n",
       "      <th>recall</th>\n",
       "      <th>f1</th>\n",
       "    </tr>\n",
       "  </thead>\n",
       "  <tbody>\n",
       "    <tr>\n",
       "      <th>0</th>\n",
       "      <td>0.00</td>\n",
       "      <td>1098</td>\n",
       "      <td>0</td>\n",
       "      <td>7944</td>\n",
       "      <td>0</td>\n",
       "      <td>0.121433</td>\n",
       "      <td>1.000000</td>\n",
       "      <td>0.216568</td>\n",
       "    </tr>\n",
       "    <tr>\n",
       "      <th>1</th>\n",
       "      <td>0.01</td>\n",
       "      <td>1094</td>\n",
       "      <td>940</td>\n",
       "      <td>7004</td>\n",
       "      <td>4</td>\n",
       "      <td>0.135095</td>\n",
       "      <td>0.996357</td>\n",
       "      <td>0.237930</td>\n",
       "    </tr>\n",
       "    <tr>\n",
       "      <th>2</th>\n",
       "      <td>0.02</td>\n",
       "      <td>1093</td>\n",
       "      <td>2156</td>\n",
       "      <td>5788</td>\n",
       "      <td>5</td>\n",
       "      <td>0.158843</td>\n",
       "      <td>0.995446</td>\n",
       "      <td>0.273969</td>\n",
       "    </tr>\n",
       "    <tr>\n",
       "      <th>3</th>\n",
       "      <td>0.03</td>\n",
       "      <td>1087</td>\n",
       "      <td>3202</td>\n",
       "      <td>4742</td>\n",
       "      <td>11</td>\n",
       "      <td>0.186481</td>\n",
       "      <td>0.989982</td>\n",
       "      <td>0.313844</td>\n",
       "    </tr>\n",
       "    <tr>\n",
       "      <th>4</th>\n",
       "      <td>0.04</td>\n",
       "      <td>1068</td>\n",
       "      <td>4144</td>\n",
       "      <td>3800</td>\n",
       "      <td>30</td>\n",
       "      <td>0.219392</td>\n",
       "      <td>0.972678</td>\n",
       "      <td>0.358029</td>\n",
       "    </tr>\n",
       "  </tbody>\n",
       "</table>\n",
       "</div>"
      ],
      "text/plain": [
       "   threshold    tp    tn    fp  fn  precision    recall        f1\n",
       "0       0.00  1098     0  7944   0   0.121433  1.000000  0.216568\n",
       "1       0.01  1094   940  7004   4   0.135095  0.996357  0.237930\n",
       "2       0.02  1093  2156  5788   5   0.158843  0.995446  0.273969\n",
       "3       0.03  1087  3202  4742  11   0.186481  0.989982  0.313844\n",
       "4       0.04  1068  4144  3800  30   0.219392  0.972678  0.358029"
      ]
     },
     "execution_count": 21,
     "metadata": {},
     "output_type": "execute_result"
    }
   ],
   "source": [
    "df_scores.head()"
   ]
  },
  {
   "cell_type": "code",
   "execution_count": 22,
   "id": "a3ae2543-51a4-48dc-ad47-548c4caac889",
   "metadata": {},
   "outputs": [
    {
     "data": {
      "text/html": [
       "<div>\n",
       "<style scoped>\n",
       "    .dataframe tbody tr th:only-of-type {\n",
       "        vertical-align: middle;\n",
       "    }\n",
       "\n",
       "    .dataframe tbody tr th {\n",
       "        vertical-align: top;\n",
       "    }\n",
       "\n",
       "    .dataframe thead th {\n",
       "        text-align: right;\n",
       "    }\n",
       "</style>\n",
       "<table border=\"1\" class=\"dataframe\">\n",
       "  <thead>\n",
       "    <tr style=\"text-align: right;\">\n",
       "      <th></th>\n",
       "      <th>threshold</th>\n",
       "      <th>tp</th>\n",
       "      <th>tn</th>\n",
       "      <th>fp</th>\n",
       "      <th>fn</th>\n",
       "      <th>precision</th>\n",
       "      <th>recall</th>\n",
       "      <th>f1</th>\n",
       "    </tr>\n",
       "  </thead>\n",
       "  <tbody>\n",
       "    <tr>\n",
       "      <th>22</th>\n",
       "      <td>0.22</td>\n",
       "      <td>686</td>\n",
       "      <td>7333</td>\n",
       "      <td>611</td>\n",
       "      <td>412</td>\n",
       "      <td>0.528913</td>\n",
       "      <td>0.624772</td>\n",
       "      <td>0.57286</td>\n",
       "    </tr>\n",
       "  </tbody>\n",
       "</table>\n",
       "</div>"
      ],
      "text/plain": [
       "    threshold   tp    tn   fp   fn  precision    recall       f1\n",
       "22       0.22  686  7333  611  412   0.528913  0.624772  0.57286"
      ]
     },
     "execution_count": 22,
     "metadata": {},
     "output_type": "execute_result"
    }
   ],
   "source": [
    "df_scores[df_scores.f1 == max(df_scores.f1)]"
   ]
  },
  {
   "cell_type": "markdown",
   "id": "3d46bdbd-cfdf-4006-9bac-7742b4b26fbb",
   "metadata": {},
   "source": [
    "#### Question 5: 5-Fold CV"
   ]
  },
  {
   "cell_type": "code",
   "execution_count": 28,
   "id": "009c426a-66c2-4768-8c77-7ad9289734e6",
   "metadata": {},
   "outputs": [],
   "source": [
    "columns = [    \n",
    "    'age',\n",
    "    'job',\n",
    "    'marital',\n",
    "    'education',\n",
    "    'balance',\n",
    "    'housing',\n",
    "    'contact',\n",
    "    'day',\n",
    "    'month',\n",
    "    'duration',\n",
    "    'campaign',\n",
    "    'pdays',\n",
    "    'previous',\n",
    "    'poutcome',\n",
    "]"
   ]
  },
  {
   "cell_type": "code",
   "execution_count": 29,
   "id": "f32601f9-5c8d-4deb-bcfe-bd5042a86be0",
   "metadata": {},
   "outputs": [],
   "source": [
    "def train(df_train, y_train):\n",
    "    dicts = df_train[columns].to_dict(orient='records')\n",
    "    dv = DictVectorizer(sparse=False)\n",
    "    X_train = dv.fit_transform(dicts)\n",
    " \n",
    "    model = LogisticRegression(solver='liblinear', C=1.0, max_iter=1000)\n",
    "    model.fit(X_train, y_train)\n",
    " \n",
    "    return dv, model"
   ]
  },
  {
   "cell_type": "code",
   "execution_count": 30,
   "id": "e34321e4-4d20-4f7b-8180-00fab18d7562",
   "metadata": {},
   "outputs": [],
   "source": [
    "def predict(df, dv, model):\n",
    "     dicts = df[columns].to_dict(orient='records')\n",
    "     X = dv.transform(dicts)\n",
    "     y_pred = model.predict_proba(X)[:,1]\n",
    "     return y_pred"
   ]
  },
  {
   "cell_type": "code",
   "execution_count": 31,
   "id": "cb852d0a-f93f-458e-a3c6-ac71ee1e70cd",
   "metadata": {},
   "outputs": [
    {
     "data": {
      "text/plain": [
       "[0.8993454076910828,\n",
       " 0.8993071840663719,\n",
       " 0.9111830172937582,\n",
       " 0.9082408660097206,\n",
       " 0.9121745763212716]"
      ]
     },
     "execution_count": 31,
     "metadata": {},
     "output_type": "execute_result"
    }
   ],
   "source": [
    "scores = []\n",
    "kfold = KFold(n_splits=5, shuffle=True, random_state=1)\n",
    "\n",
    "for train_idx, val_idx in kfold.split(df_full_train):\n",
    "    df_train = df_full_train.iloc[train_idx]\n",
    "    df_val = df_full_train.iloc[val_idx]\n",
    "\n",
    "    y_train = df_train.y.values\n",
    "    y_val = df_val.y.values\n",
    "    \n",
    "    dv, model = train(df_train, y_train)\n",
    "    y_pred = predict(df_val, dv, model)\n",
    " \n",
    "    auc = roc_auc_score(y_val, y_pred)\n",
    "    scores.append(auc)\n",
    " \n",
    "scores"
   ]
  },
  {
   "cell_type": "code",
   "execution_count": 33,
   "id": "2bc86051-6e97-44a5-a42b-39aacf8a76e7",
   "metadata": {},
   "outputs": [
    {
     "name": "stdout",
     "output_type": "stream",
     "text": [
      "0.906 +- 0.006\n"
     ]
    }
   ],
   "source": [
    "print('%.3f +- %.3f' % (np.mean(scores), np.std(scores)))"
   ]
  },
  {
   "cell_type": "markdown",
   "id": "191c1f4c-95f0-47da-b122-25d3a2ae0891",
   "metadata": {},
   "source": [
    "#### Question 6: Hyperparameter Tuning"
   ]
  },
  {
   "cell_type": "code",
   "execution_count": 34,
   "id": "4d157b37-5845-48cd-887b-36ab76cd9923",
   "metadata": {},
   "outputs": [],
   "source": [
    "def train(df_train, y_train, C=1):\n",
    "    dicts = df_train[columns].to_dict(orient='records')\n",
    "    dv = DictVectorizer(sparse=False)\n",
    "    X_train = dv.fit_transform(dicts)\n",
    " \n",
    "    model = LogisticRegression(solver='liblinear', C=C, max_iter=1000)\n",
    "    model.fit(X_train, y_train)\n",
    " \n",
    "    return dv, model"
   ]
  },
  {
   "cell_type": "code",
   "execution_count": 35,
   "id": "889c8d7a-fc4e-4e6f-a325-fc1482a55377",
   "metadata": {},
   "outputs": [],
   "source": [
    "def predict(df, dv, model):\n",
    "     dicts = df[columns].to_dict(orient='records')\n",
    "     X = dv.transform(dicts)\n",
    "     y_pred = model.predict_proba(X)[:,1]\n",
    "     return y_pred"
   ]
  },
  {
   "cell_type": "code",
   "execution_count": 37,
   "id": "55993708-872d-49dc-9597-46400ada6d2c",
   "metadata": {},
   "outputs": [
    {
     "name": "stdout",
     "output_type": "stream",
     "text": [
      "C=1e-06 0.701 +- 0.009\n",
      "C=0.001 0.861 +- 0.007\n",
      "C=1 0.906 +- 0.006\n"
     ]
    }
   ],
   "source": [
    "kfold = KFold(n_splits=5, shuffle=True, random_state=1)\n",
    "\n",
    "for C in [0.000001, 0.001, 1]:\n",
    "     \n",
    "    scores = []\n",
    " \n",
    "    for train_idx, val_idx in kfold.split(df_full_train):\n",
    "        df_train = df_full_train.iloc[train_idx]\n",
    "        df_val = df_full_train.iloc[val_idx]\n",
    " \n",
    "        y_train = df_train.y.values\n",
    "        y_val = df_val.y.values\n",
    " \n",
    "        dv, model = train(df_train, y_train, C=C)\n",
    "        y_pred = predict(df_val, dv, model)\n",
    " \n",
    "        auc = roc_auc_score(y_val, y_pred)\n",
    "        scores.append(auc)\n",
    " \n",
    "    print('C=%s %.3f +- %.3f' % (C, np.mean(scores), np.std(scores)))"
   ]
  }
 ],
 "metadata": {
  "kernelspec": {
   "display_name": "ml-zoomcamp",
   "language": "python",
   "name": "ml-zoomcamp"
  },
  "language_info": {
   "codemirror_mode": {
    "name": "ipython",
    "version": 3
   },
   "file_extension": ".py",
   "mimetype": "text/x-python",
   "name": "python",
   "nbconvert_exporter": "python",
   "pygments_lexer": "ipython3",
   "version": "3.11.9"
  }
 },
 "nbformat": 4,
 "nbformat_minor": 5
}
