{
 "cells": [
  {
   "cell_type": "code",
   "execution_count": 3,
   "id": "5b2bd1d2-0c98-49db-9da6-09555e98541b",
   "metadata": {
    "execution": {
     "iopub.execute_input": "2024-12-06T20:29:52.764415Z",
     "iopub.status.busy": "2024-12-06T20:29:52.764005Z",
     "iopub.status.idle": "2024-12-06T20:29:52.767582Z",
     "shell.execute_reply": "2024-12-06T20:29:52.767080Z",
     "shell.execute_reply.started": "2024-12-06T20:29:52.764393Z"
    }
   },
   "outputs": [],
   "source": [
    "import numpy as np\n",
    "import tensorflow as tf\n",
    "\n",
    "SEED = 42\n",
    "np.random.seed(SEED)\n",
    "tf.random.set_seed(SEED)"
   ]
  },
  {
   "cell_type": "code",
   "execution_count": 5,
   "id": "30b250ec-2a08-45b3-8276-05338bec0a25",
   "metadata": {
    "execution": {
     "iopub.execute_input": "2024-12-06T21:38:47.414483Z",
     "iopub.status.busy": "2024-12-06T21:38:47.414143Z",
     "iopub.status.idle": "2024-12-06T21:38:47.418319Z",
     "shell.execute_reply": "2024-12-06T21:38:47.417764Z",
     "shell.execute_reply.started": "2024-12-06T21:38:47.414462Z"
    }
   },
   "outputs": [
    {
     "data": {
      "text/plain": [
       "'2.18.0'"
      ]
     },
     "execution_count": 5,
     "metadata": {},
     "output_type": "execute_result"
    }
   ],
   "source": [
    "tf.__version__"
   ]
  },
  {
   "cell_type": "code",
   "execution_count": 6,
   "id": "779fcc7c-47ab-4c03-ac02-5a6a87e3c301",
   "metadata": {
    "execution": {
     "iopub.execute_input": "2024-12-06T21:46:00.433392Z",
     "iopub.status.busy": "2024-12-06T21:46:00.433065Z",
     "iopub.status.idle": "2024-12-06T21:46:00.476380Z",
     "shell.execute_reply": "2024-12-06T21:46:00.475835Z",
     "shell.execute_reply.started": "2024-12-06T21:46:00.433373Z"
    }
   },
   "outputs": [],
   "source": [
    "import matplotlib.pyplot as plt\n",
    "\n",
    "from tensorflow import keras\n",
    "from tensorflow.keras import layers\n",
    "from tensorflow.keras import models\n",
    "from tensorflow.keras import optimizers\n",
    "\n",
    "from tensorflow.keras.preprocessing.image import ImageDataGenerator\n",
    "from tensorflow.keras.preprocessing import image"
   ]
  },
  {
   "cell_type": "code",
   "execution_count": 7,
   "id": "a77a5e41-258c-4f84-98e9-4967b0f79f60",
   "metadata": {
    "execution": {
     "iopub.execute_input": "2024-12-06T21:46:01.239821Z",
     "iopub.status.busy": "2024-12-06T21:46:01.239492Z",
     "iopub.status.idle": "2024-12-06T21:46:02.418813Z",
     "shell.execute_reply": "2024-12-06T21:46:02.418223Z",
     "shell.execute_reply.started": "2024-12-06T21:46:01.239799Z"
    }
   },
   "outputs": [
    {
     "name": "stderr",
     "output_type": "stream",
     "text": [
      "I0000 00:00:1733521561.479271    1377 gpu_device.cc:2022] Created device /job:localhost/replica:0/task:0/device:GPU:0 with 13942 MB memory:  -> device: 0, name: Tesla T4, pci bus id: 0000:00:1e.0, compute capability: 7.5\n"
     ]
    }
   ],
   "source": [
    "model = models.Sequential()\n",
    "model.add(keras.Input(shape=(200, 200, 3)))\n",
    "model.add(layers.Conv2D(32, (3, 3), activation='relu'))\n",
    "model.add(layers.MaxPooling2D((2, 2)))\n",
    "model.add(layers.Flatten())\n",
    "model.add(layers.Dense(64, activation='relu'))\n",
    "model.add(layers.Dense(1, activation='sigmoid'))"
   ]
  },
  {
   "cell_type": "code",
   "execution_count": 8,
   "id": "d96be20e-dfb9-4bcd-9625-da82f041d408",
   "metadata": {
    "execution": {
     "iopub.execute_input": "2024-12-06T21:46:04.309965Z",
     "iopub.status.busy": "2024-12-06T21:46:04.309600Z",
     "iopub.status.idle": "2024-12-06T21:46:04.320683Z",
     "shell.execute_reply": "2024-12-06T21:46:04.320179Z",
     "shell.execute_reply.started": "2024-12-06T21:46:04.309944Z"
    }
   },
   "outputs": [],
   "source": [
    "model.compile(loss='binary_crossentropy',\n",
    "              optimizer=optimizers.SGD(learning_rate=0.002, momentum=0.),\n",
    "              metrics=['acc'])"
   ]
  },
  {
   "cell_type": "code",
   "execution_count": 9,
   "id": "6e6642db-8fb8-44a9-8161-9f89b9f6fd81",
   "metadata": {
    "execution": {
     "iopub.execute_input": "2024-12-06T21:46:17.345144Z",
     "iopub.status.busy": "2024-12-06T21:46:17.344818Z",
     "iopub.status.idle": "2024-12-06T21:46:17.358157Z",
     "shell.execute_reply": "2024-12-06T21:46:17.357627Z",
     "shell.execute_reply.started": "2024-12-06T21:46:17.345124Z"
    }
   },
   "outputs": [
    {
     "data": {
      "text/html": [
       "<pre style=\"white-space:pre;overflow-x:auto;line-height:normal;font-family:Menlo,'DejaVu Sans Mono',consolas,'Courier New',monospace\"><span style=\"font-weight: bold\">Model: \"sequential\"</span>\n",
       "</pre>\n"
      ],
      "text/plain": [
       "\u001b[1mModel: \"sequential\"\u001b[0m\n"
      ]
     },
     "metadata": {},
     "output_type": "display_data"
    },
    {
     "data": {
      "text/html": [
       "<pre style=\"white-space:pre;overflow-x:auto;line-height:normal;font-family:Menlo,'DejaVu Sans Mono',consolas,'Courier New',monospace\">┏━━━━━━━━━━━━━━━━━━━━━━━━━━━━━━━━━┳━━━━━━━━━━━━━━━━━━━━━━━━┳━━━━━━━━━━━━━━━┓\n",
       "┃<span style=\"font-weight: bold\"> Layer (type)                    </span>┃<span style=\"font-weight: bold\"> Output Shape           </span>┃<span style=\"font-weight: bold\">       Param # </span>┃\n",
       "┡━━━━━━━━━━━━━━━━━━━━━━━━━━━━━━━━━╇━━━━━━━━━━━━━━━━━━━━━━━━╇━━━━━━━━━━━━━━━┩\n",
       "│ conv2d (<span style=\"color: #0087ff; text-decoration-color: #0087ff\">Conv2D</span>)                 │ (<span style=\"color: #00d7ff; text-decoration-color: #00d7ff\">None</span>, <span style=\"color: #00af00; text-decoration-color: #00af00\">198</span>, <span style=\"color: #00af00; text-decoration-color: #00af00\">198</span>, <span style=\"color: #00af00; text-decoration-color: #00af00\">32</span>)   │           <span style=\"color: #00af00; text-decoration-color: #00af00\">896</span> │\n",
       "├─────────────────────────────────┼────────────────────────┼───────────────┤\n",
       "│ max_pooling2d (<span style=\"color: #0087ff; text-decoration-color: #0087ff\">MaxPooling2D</span>)    │ (<span style=\"color: #00d7ff; text-decoration-color: #00d7ff\">None</span>, <span style=\"color: #00af00; text-decoration-color: #00af00\">99</span>, <span style=\"color: #00af00; text-decoration-color: #00af00\">99</span>, <span style=\"color: #00af00; text-decoration-color: #00af00\">32</span>)     │             <span style=\"color: #00af00; text-decoration-color: #00af00\">0</span> │\n",
       "├─────────────────────────────────┼────────────────────────┼───────────────┤\n",
       "│ flatten (<span style=\"color: #0087ff; text-decoration-color: #0087ff\">Flatten</span>)               │ (<span style=\"color: #00d7ff; text-decoration-color: #00d7ff\">None</span>, <span style=\"color: #00af00; text-decoration-color: #00af00\">313632</span>)         │             <span style=\"color: #00af00; text-decoration-color: #00af00\">0</span> │\n",
       "├─────────────────────────────────┼────────────────────────┼───────────────┤\n",
       "│ dense (<span style=\"color: #0087ff; text-decoration-color: #0087ff\">Dense</span>)                   │ (<span style=\"color: #00d7ff; text-decoration-color: #00d7ff\">None</span>, <span style=\"color: #00af00; text-decoration-color: #00af00\">64</span>)             │    <span style=\"color: #00af00; text-decoration-color: #00af00\">20,072,512</span> │\n",
       "├─────────────────────────────────┼────────────────────────┼───────────────┤\n",
       "│ dense_1 (<span style=\"color: #0087ff; text-decoration-color: #0087ff\">Dense</span>)                 │ (<span style=\"color: #00d7ff; text-decoration-color: #00d7ff\">None</span>, <span style=\"color: #00af00; text-decoration-color: #00af00\">1</span>)              │            <span style=\"color: #00af00; text-decoration-color: #00af00\">65</span> │\n",
       "└─────────────────────────────────┴────────────────────────┴───────────────┘\n",
       "</pre>\n"
      ],
      "text/plain": [
       "┏━━━━━━━━━━━━━━━━━━━━━━━━━━━━━━━━━┳━━━━━━━━━━━━━━━━━━━━━━━━┳━━━━━━━━━━━━━━━┓\n",
       "┃\u001b[1m \u001b[0m\u001b[1mLayer (type)                   \u001b[0m\u001b[1m \u001b[0m┃\u001b[1m \u001b[0m\u001b[1mOutput Shape          \u001b[0m\u001b[1m \u001b[0m┃\u001b[1m \u001b[0m\u001b[1m      Param #\u001b[0m\u001b[1m \u001b[0m┃\n",
       "┡━━━━━━━━━━━━━━━━━━━━━━━━━━━━━━━━━╇━━━━━━━━━━━━━━━━━━━━━━━━╇━━━━━━━━━━━━━━━┩\n",
       "│ conv2d (\u001b[38;5;33mConv2D\u001b[0m)                 │ (\u001b[38;5;45mNone\u001b[0m, \u001b[38;5;34m198\u001b[0m, \u001b[38;5;34m198\u001b[0m, \u001b[38;5;34m32\u001b[0m)   │           \u001b[38;5;34m896\u001b[0m │\n",
       "├─────────────────────────────────┼────────────────────────┼───────────────┤\n",
       "│ max_pooling2d (\u001b[38;5;33mMaxPooling2D\u001b[0m)    │ (\u001b[38;5;45mNone\u001b[0m, \u001b[38;5;34m99\u001b[0m, \u001b[38;5;34m99\u001b[0m, \u001b[38;5;34m32\u001b[0m)     │             \u001b[38;5;34m0\u001b[0m │\n",
       "├─────────────────────────────────┼────────────────────────┼───────────────┤\n",
       "│ flatten (\u001b[38;5;33mFlatten\u001b[0m)               │ (\u001b[38;5;45mNone\u001b[0m, \u001b[38;5;34m313632\u001b[0m)         │             \u001b[38;5;34m0\u001b[0m │\n",
       "├─────────────────────────────────┼────────────────────────┼───────────────┤\n",
       "│ dense (\u001b[38;5;33mDense\u001b[0m)                   │ (\u001b[38;5;45mNone\u001b[0m, \u001b[38;5;34m64\u001b[0m)             │    \u001b[38;5;34m20,072,512\u001b[0m │\n",
       "├─────────────────────────────────┼────────────────────────┼───────────────┤\n",
       "│ dense_1 (\u001b[38;5;33mDense\u001b[0m)                 │ (\u001b[38;5;45mNone\u001b[0m, \u001b[38;5;34m1\u001b[0m)              │            \u001b[38;5;34m65\u001b[0m │\n",
       "└─────────────────────────────────┴────────────────────────┴───────────────┘\n"
      ]
     },
     "metadata": {},
     "output_type": "display_data"
    },
    {
     "data": {
      "text/html": [
       "<pre style=\"white-space:pre;overflow-x:auto;line-height:normal;font-family:Menlo,'DejaVu Sans Mono',consolas,'Courier New',monospace\"><span style=\"font-weight: bold\"> Total params: </span><span style=\"color: #00af00; text-decoration-color: #00af00\">20,073,473</span> (76.57 MB)\n",
       "</pre>\n"
      ],
      "text/plain": [
       "\u001b[1m Total params: \u001b[0m\u001b[38;5;34m20,073,473\u001b[0m (76.57 MB)\n"
      ]
     },
     "metadata": {},
     "output_type": "display_data"
    },
    {
     "data": {
      "text/html": [
       "<pre style=\"white-space:pre;overflow-x:auto;line-height:normal;font-family:Menlo,'DejaVu Sans Mono',consolas,'Courier New',monospace\"><span style=\"font-weight: bold\"> Trainable params: </span><span style=\"color: #00af00; text-decoration-color: #00af00\">20,073,473</span> (76.57 MB)\n",
       "</pre>\n"
      ],
      "text/plain": [
       "\u001b[1m Trainable params: \u001b[0m\u001b[38;5;34m20,073,473\u001b[0m (76.57 MB)\n"
      ]
     },
     "metadata": {},
     "output_type": "display_data"
    },
    {
     "data": {
      "text/html": [
       "<pre style=\"white-space:pre;overflow-x:auto;line-height:normal;font-family:Menlo,'DejaVu Sans Mono',consolas,'Courier New',monospace\"><span style=\"font-weight: bold\"> Non-trainable params: </span><span style=\"color: #00af00; text-decoration-color: #00af00\">0</span> (0.00 B)\n",
       "</pre>\n"
      ],
      "text/plain": [
       "\u001b[1m Non-trainable params: \u001b[0m\u001b[38;5;34m0\u001b[0m (0.00 B)\n"
      ]
     },
     "metadata": {},
     "output_type": "display_data"
    }
   ],
   "source": [
    "model.summary()"
   ]
  },
  {
   "cell_type": "code",
   "execution_count": 10,
   "id": "dd39bba5-a626-484d-89a8-7efef38271ff",
   "metadata": {
    "execution": {
     "iopub.execute_input": "2024-12-06T21:47:08.752548Z",
     "iopub.status.busy": "2024-12-06T21:47:08.752216Z",
     "iopub.status.idle": "2024-12-06T21:47:08.755770Z",
     "shell.execute_reply": "2024-12-06T21:47:08.755062Z",
     "shell.execute_reply.started": "2024-12-06T21:47:08.752527Z"
    }
   },
   "outputs": [],
   "source": [
    "train_datagen = ImageDataGenerator(rescale=1./255)\n",
    "val_datagen = ImageDataGenerator(rescale=1./255)"
   ]
  },
  {
   "cell_type": "code",
   "execution_count": 12,
   "id": "7147dcce-129a-4f46-ba1b-73ab7b5a2328",
   "metadata": {
    "execution": {
     "iopub.execute_input": "2024-12-06T21:47:42.449218Z",
     "iopub.status.busy": "2024-12-06T21:47:42.448884Z",
     "iopub.status.idle": "2024-12-06T21:47:42.479439Z",
     "shell.execute_reply": "2024-12-06T21:47:42.478915Z",
     "shell.execute_reply.started": "2024-12-06T21:47:42.449198Z"
    }
   },
   "outputs": [
    {
     "name": "stdout",
     "output_type": "stream",
     "text": [
      "Found 800 images belonging to 2 classes.\n"
     ]
    }
   ],
   "source": [
    "train_generator = train_datagen.flow_from_directory(\n",
    "    'data/train',\n",
    "    target_size=(200, 200),\n",
    "    batch_size=20,\n",
    "    class_mode='binary',\n",
    "    shuffle=True)"
   ]
  },
  {
   "cell_type": "code",
   "execution_count": 13,
   "id": "e29ebee5-e1fa-4385-931c-5bf2a5b2e60b",
   "metadata": {
    "execution": {
     "iopub.execute_input": "2024-12-06T21:48:10.145784Z",
     "iopub.status.busy": "2024-12-06T21:48:10.145451Z",
     "iopub.status.idle": "2024-12-06T21:48:10.156935Z",
     "shell.execute_reply": "2024-12-06T21:48:10.156430Z",
     "shell.execute_reply.started": "2024-12-06T21:48:10.145765Z"
    }
   },
   "outputs": [
    {
     "name": "stdout",
     "output_type": "stream",
     "text": [
      "Found 201 images belonging to 2 classes.\n"
     ]
    }
   ],
   "source": [
    "validation_generator = val_datagen.flow_from_directory(\n",
    "    'data/test',\n",
    "    target_size=(200, 200),\n",
    "    batch_size=20,\n",
    "    class_mode='binary',\n",
    "    shuffle=True)"
   ]
  },
  {
   "cell_type": "code",
   "execution_count": 14,
   "id": "12151773-26d4-4b1a-bc74-54c0ef6c71fb",
   "metadata": {
    "execution": {
     "iopub.execute_input": "2024-12-06T21:48:36.713835Z",
     "iopub.status.busy": "2024-12-06T21:48:36.713481Z",
     "iopub.status.idle": "2024-12-06T21:49:29.989299Z",
     "shell.execute_reply": "2024-12-06T21:49:29.988806Z",
     "shell.execute_reply.started": "2024-12-06T21:48:36.713787Z"
    }
   },
   "outputs": [
    {
     "name": "stderr",
     "output_type": "stream",
     "text": [
      "/opt/saturncloud/envs/saturn/lib/python3.12/site-packages/keras/src/trainers/data_adapters/py_dataset_adapter.py:121: UserWarning: Your `PyDataset` class should call `super().__init__(**kwargs)` in its constructor. `**kwargs` can include `workers`, `use_multiprocessing`, `max_queue_size`. Do not pass these arguments to `fit()`, as they will be ignored.\n",
      "  self._warn_if_super_not_called()\n"
     ]
    },
    {
     "name": "stdout",
     "output_type": "stream",
     "text": [
      "Epoch 1/10\n"
     ]
    },
    {
     "name": "stderr",
     "output_type": "stream",
     "text": [
      "WARNING: All log messages before absl::InitializeLog() is called are written to STDERR\n",
      "I0000 00:00:1733521717.538803   11408 service.cc:148] XLA service 0x7f5d480167a0 initialized for platform CUDA (this does not guarantee that XLA will be used). Devices:\n",
      "I0000 00:00:1733521717.538836   11408 service.cc:156]   StreamExecutor device (0): Tesla T4, Compute Capability 7.5\n",
      "2024-12-06 21:48:37.556694: I tensorflow/compiler/mlir/tensorflow/utils/dump_mlir_util.cc:268] disabling MLIR crash reproducer, set env var `MLIR_CRASH_REPRODUCER_DIRECTORY` to enable.\n",
      "I0000 00:00:1733521717.631701   11408 cuda_dnn.cc:529] Loaded cuDNN version 90300\n",
      "2024-12-06 21:48:37.918479: I external/local_xla/xla/service/gpu/autotuning/conv_algorithm_picker.cc:557] Omitted potentially buggy algorithm eng14{k25=0} for conv (f32[20,32,198,198]{3,2,1,0}, u8[0]{0}) custom-call(f32[20,3,200,200]{3,2,1,0}, f32[32,3,3,3]{3,2,1,0}, f32[32]{0}), window={size=3x3}, dim_labels=bf01_oi01->bf01, custom_call_target=\"__cudnn$convBiasActivationForward\", backend_config={\"cudnn_conv_backend_config\":{\"activation_mode\":\"kNone\",\"conv_result_scale\":1,\"leakyrelu_alpha\":0,\"side_input_scale\":0},\"force_earliest_schedule\":false,\"operation_queue_id\":\"0\",\"wait_on_operation_queues\":[]}\n",
      "2024-12-06 21:48:38.720740: W external/local_xla/xla/service/gpu/nvptx_compiler.cc:930] The NVIDIA driver's CUDA version is 12.4 which is older than the PTX compiler version 12.5.82. Because the driver is older than the PTX compiler version, XLA is disabling parallel compilation, which may slow down compilation. You should update your NVIDIA driver or use the NVIDIA-provided CUDA forward compatibility packages.\n"
     ]
    },
    {
     "name": "stdout",
     "output_type": "stream",
     "text": [
      "\u001b[1m 3/40\u001b[0m \u001b[32m━\u001b[0m\u001b[37m━━━━━━━━━━━━━━━━━━━\u001b[0m \u001b[1m2s\u001b[0m 59ms/step - acc: 0.5556 - loss: 0.7208"
     ]
    },
    {
     "name": "stderr",
     "output_type": "stream",
     "text": [
      "I0000 00:00:1733521719.050139   11408 device_compiler.h:188] Compiled cluster using XLA!  This line is logged at most once for the lifetime of the process.\n"
     ]
    },
    {
     "name": "stdout",
     "output_type": "stream",
     "text": [
      "\u001b[1m40/40\u001b[0m \u001b[32m━━━━━━━━━━━━━━━━━━━━\u001b[0m\u001b[37m\u001b[0m \u001b[1m0s\u001b[0m 103ms/step - acc: 0.5324 - loss: 0.6939"
     ]
    },
    {
     "name": "stderr",
     "output_type": "stream",
     "text": [
      "2024-12-06 21:48:43.667017: I external/local_xla/xla/service/gpu/autotuning/conv_algorithm_picker.cc:557] Omitted potentially buggy algorithm eng14{k25=0} for conv (f32[20,32,198,198]{3,2,1,0}, u8[0]{0}) custom-call(f32[20,3,200,200]{3,2,1,0}, f32[32,3,3,3]{3,2,1,0}, f32[32]{0}), window={size=3x3}, dim_labels=bf01_oi01->bf01, custom_call_target=\"__cudnn$convBiasActivationForward\", backend_config={\"cudnn_conv_backend_config\":{\"activation_mode\":\"kRelu\",\"conv_result_scale\":1,\"leakyrelu_alpha\":0,\"side_input_scale\":0},\"force_earliest_schedule\":false,\"operation_queue_id\":\"0\",\"wait_on_operation_queues\":[]}\n"
     ]
    },
    {
     "name": "stdout",
     "output_type": "stream",
     "text": [
      "\u001b[1m40/40\u001b[0m \u001b[32m━━━━━━━━━━━━━━━━━━━━\u001b[0m\u001b[37m\u001b[0m \u001b[1m8s\u001b[0m 158ms/step - acc: 0.5328 - loss: 0.6935 - val_acc: 0.6169 - val_loss: 0.6504\n",
      "Epoch 2/10\n",
      "\u001b[1m40/40\u001b[0m \u001b[32m━━━━━━━━━━━━━━━━━━━━\u001b[0m\u001b[37m\u001b[0m \u001b[1m5s\u001b[0m 126ms/step - acc: 0.6222 - loss: 0.6325 - val_acc: 0.6269 - val_loss: 0.6359\n",
      "Epoch 3/10\n",
      "\u001b[1m40/40\u001b[0m \u001b[32m━━━━━━━━━━━━━━━━━━━━\u001b[0m\u001b[37m\u001b[0m \u001b[1m5s\u001b[0m 125ms/step - acc: 0.6886 - loss: 0.5808 - val_acc: 0.6119 - val_loss: 0.6507\n",
      "Epoch 4/10\n",
      "\u001b[1m40/40\u001b[0m \u001b[32m━━━━━━━━━━━━━━━━━━━━\u001b[0m\u001b[37m\u001b[0m \u001b[1m5s\u001b[0m 123ms/step - acc: 0.7023 - loss: 0.5926 - val_acc: 0.6020 - val_loss: 0.6501\n",
      "Epoch 5/10\n",
      "\u001b[1m40/40\u001b[0m \u001b[32m━━━━━━━━━━━━━━━━━━━━\u001b[0m\u001b[37m\u001b[0m \u001b[1m5s\u001b[0m 128ms/step - acc: 0.6525 - loss: 0.6061 - val_acc: 0.6269 - val_loss: 0.6428\n",
      "Epoch 6/10\n",
      "\u001b[1m40/40\u001b[0m \u001b[32m━━━━━━━━━━━━━━━━━━━━\u001b[0m\u001b[37m\u001b[0m \u001b[1m5s\u001b[0m 125ms/step - acc: 0.6987 - loss: 0.5766 - val_acc: 0.6219 - val_loss: 0.6173\n",
      "Epoch 7/10\n",
      "\u001b[1m40/40\u001b[0m \u001b[32m━━━━━━━━━━━━━━━━━━━━\u001b[0m\u001b[37m\u001b[0m \u001b[1m5s\u001b[0m 125ms/step - acc: 0.7074 - loss: 0.5521 - val_acc: 0.5970 - val_loss: 0.6776\n",
      "Epoch 8/10\n",
      "\u001b[1m40/40\u001b[0m \u001b[32m━━━━━━━━━━━━━━━━━━━━\u001b[0m\u001b[37m\u001b[0m \u001b[1m5s\u001b[0m 123ms/step - acc: 0.6671 - loss: 0.5793 - val_acc: 0.5920 - val_loss: 0.6875\n",
      "Epoch 9/10\n",
      "\u001b[1m40/40\u001b[0m \u001b[32m━━━━━━━━━━━━━━━━━━━━\u001b[0m\u001b[37m\u001b[0m \u001b[1m5s\u001b[0m 124ms/step - acc: 0.7315 - loss: 0.5284 - val_acc: 0.6119 - val_loss: 0.6364\n",
      "Epoch 10/10\n",
      "\u001b[1m40/40\u001b[0m \u001b[32m━━━━━━━━━━━━━━━━━━━━\u001b[0m\u001b[37m\u001b[0m \u001b[1m5s\u001b[0m 121ms/step - acc: 0.7551 - loss: 0.5036 - val_acc: 0.6468 - val_loss: 0.6084\n"
     ]
    }
   ],
   "source": [
    "history = model.fit(\n",
    "    train_generator,\n",
    "    epochs=10,\n",
    "    validation_data=validation_generator\n",
    ")"
   ]
  },
  {
   "cell_type": "code",
   "execution_count": 15,
   "id": "26a700ff-6361-4f6a-9513-8581c2ec0cbd",
   "metadata": {
    "execution": {
     "iopub.execute_input": "2024-12-06T21:50:27.661011Z",
     "iopub.status.busy": "2024-12-06T21:50:27.660412Z",
     "iopub.status.idle": "2024-12-06T21:50:27.664319Z",
     "shell.execute_reply": "2024-12-06T21:50:27.663746Z",
     "shell.execute_reply.started": "2024-12-06T21:50:27.660987Z"
    }
   },
   "outputs": [],
   "source": [
    "acc = history.history['acc']\n",
    "val_acc = history.history['val_acc']\n",
    "loss = history.history['loss']\n",
    "val_loss = history.history['val_loss']\n",
    "epochs = range(1, len(acc) + 1)"
   ]
  },
  {
   "cell_type": "code",
   "execution_count": 16,
   "id": "0e0093a5-8569-4751-a6c4-470382600152",
   "metadata": {
    "execution": {
     "iopub.execute_input": "2024-12-06T21:50:35.413325Z",
     "iopub.status.busy": "2024-12-06T21:50:35.413040Z",
     "iopub.status.idle": "2024-12-06T21:50:35.418279Z",
     "shell.execute_reply": "2024-12-06T21:50:35.417668Z",
     "shell.execute_reply.started": "2024-12-06T21:50:35.413306Z"
    }
   },
   "outputs": [
    {
     "data": {
      "text/plain": [
       "np.float64(0.681)"
      ]
     },
     "execution_count": 16,
     "metadata": {},
     "output_type": "execute_result"
    }
   ],
   "source": [
    "acc_median = np.median(acc)\n",
    "acc_median.round(3)"
   ]
  },
  {
   "cell_type": "code",
   "execution_count": 17,
   "id": "1cf181e2-043b-42bf-aa99-97fecd1e17f1",
   "metadata": {
    "execution": {
     "iopub.execute_input": "2024-12-06T21:51:31.377948Z",
     "iopub.status.busy": "2024-12-06T21:51:31.377587Z",
     "iopub.status.idle": "2024-12-06T21:51:31.382038Z",
     "shell.execute_reply": "2024-12-06T21:51:31.381499Z",
     "shell.execute_reply.started": "2024-12-06T21:51:31.377925Z"
    }
   },
   "outputs": [
    {
     "data": {
      "text/plain": [
       "np.float64(0.0419)"
      ]
     },
     "execution_count": 17,
     "metadata": {},
     "output_type": "execute_result"
    }
   ],
   "source": [
    "loss_std = np.std(loss)\n",
    "loss_std.round(4)"
   ]
  },
  {
   "cell_type": "code",
   "execution_count": 21,
   "id": "a500c0e1-91dd-41f7-9eca-be79cc49b38d",
   "metadata": {
    "execution": {
     "iopub.execute_input": "2024-12-06T21:56:27.423680Z",
     "iopub.status.busy": "2024-12-06T21:56:27.423349Z",
     "iopub.status.idle": "2024-12-06T21:56:27.426906Z",
     "shell.execute_reply": "2024-12-06T21:56:27.426218Z",
     "shell.execute_reply.started": "2024-12-06T21:56:27.423661Z"
    }
   },
   "outputs": [],
   "source": [
    "train_datagen = ImageDataGenerator(\n",
    "    rescale=1./255,\n",
    "    rotation_range=50,\n",
    "    width_shift_range=0.1,\n",
    "    height_shift_range=0.1,\n",
    "    zoom_range=0.1,\n",
    "    horizontal_flip=True,\n",
    "    fill_mode='nearest')"
   ]
  },
  {
   "cell_type": "code",
   "execution_count": 22,
   "id": "a76a29fa-6a8c-42b3-9f20-a22cb40a4fc1",
   "metadata": {
    "execution": {
     "iopub.execute_input": "2024-12-06T21:56:28.170658Z",
     "iopub.status.busy": "2024-12-06T21:56:28.170280Z",
     "iopub.status.idle": "2024-12-06T21:56:28.173729Z",
     "shell.execute_reply": "2024-12-06T21:56:28.173073Z",
     "shell.execute_reply.started": "2024-12-06T21:56:28.170631Z"
    }
   },
   "outputs": [],
   "source": [
    "test_datagen = ImageDataGenerator(rescale=1./255)"
   ]
  },
  {
   "cell_type": "code",
   "execution_count": 24,
   "id": "e724f7c5-836b-40cf-8baa-72cd8fa08829",
   "metadata": {
    "execution": {
     "iopub.execute_input": "2024-12-06T21:56:38.816620Z",
     "iopub.status.busy": "2024-12-06T21:56:38.816275Z",
     "iopub.status.idle": "2024-12-06T21:56:38.840343Z",
     "shell.execute_reply": "2024-12-06T21:56:38.839893Z",
     "shell.execute_reply.started": "2024-12-06T21:56:38.816600Z"
    }
   },
   "outputs": [
    {
     "name": "stdout",
     "output_type": "stream",
     "text": [
      "Found 800 images belonging to 2 classes.\n"
     ]
    }
   ],
   "source": [
    "train_generator = train_datagen.flow_from_directory(\n",
    "    'data/train',\n",
    "    target_size=(200, 200),\n",
    "    batch_size=20,\n",
    "    class_mode='binary'\n",
    ")"
   ]
  },
  {
   "cell_type": "code",
   "execution_count": 25,
   "id": "51c38a9c-203d-45f3-bd81-e3e6e236a35d",
   "metadata": {
    "execution": {
     "iopub.execute_input": "2024-12-06T21:56:46.433074Z",
     "iopub.status.busy": "2024-12-06T21:56:46.432746Z",
     "iopub.status.idle": "2024-12-06T21:56:46.443708Z",
     "shell.execute_reply": "2024-12-06T21:56:46.443271Z",
     "shell.execute_reply.started": "2024-12-06T21:56:46.433055Z"
    }
   },
   "outputs": [
    {
     "name": "stdout",
     "output_type": "stream",
     "text": [
      "Found 201 images belonging to 2 classes.\n"
     ]
    }
   ],
   "source": [
    "validation_generator = test_datagen.flow_from_directory(\n",
    "    'data/test',\n",
    "    target_size=(200, 200),\n",
    "    batch_size=20,\n",
    "    class_mode='binary'\n",
    ")"
   ]
  },
  {
   "cell_type": "code",
   "execution_count": 26,
   "id": "5f8780f4-91de-4694-bcb5-ab97f698f82b",
   "metadata": {
    "execution": {
     "iopub.execute_input": "2024-12-06T21:56:49.727980Z",
     "iopub.status.busy": "2024-12-06T21:56:49.727647Z",
     "iopub.status.idle": "2024-12-06T21:58:32.538045Z",
     "shell.execute_reply": "2024-12-06T21:58:32.537526Z",
     "shell.execute_reply.started": "2024-12-06T21:56:49.727960Z"
    }
   },
   "outputs": [
    {
     "name": "stdout",
     "output_type": "stream",
     "text": [
      "Epoch 1/10\n",
      "\u001b[1m40/40\u001b[0m \u001b[32m━━━━━━━━━━━━━━━━━━━━\u001b[0m\u001b[37m\u001b[0m \u001b[1m0s\u001b[0m 236ms/step - acc: 0.6497 - loss: 0.6192"
     ]
    },
    {
     "name": "stderr",
     "output_type": "stream",
     "text": [
      "/opt/saturncloud/envs/saturn/lib/python3.12/site-packages/keras/src/trainers/data_adapters/py_dataset_adapter.py:121: UserWarning: Your `PyDataset` class should call `super().__init__(**kwargs)` in its constructor. `**kwargs` can include `workers`, `use_multiprocessing`, `max_queue_size`. Do not pass these arguments to `fit()`, as they will be ignored.\n",
      "  self._warn_if_super_not_called()\n"
     ]
    },
    {
     "name": "stdout",
     "output_type": "stream",
     "text": [
      "\u001b[1m40/40\u001b[0m \u001b[32m━━━━━━━━━━━━━━━━━━━━\u001b[0m\u001b[37m\u001b[0m \u001b[1m11s\u001b[0m 264ms/step - acc: 0.6494 - loss: 0.6195 - val_acc: 0.6617 - val_loss: 0.6080\n",
      "Epoch 2/10\n",
      "\u001b[1m40/40\u001b[0m \u001b[32m━━━━━━━━━━━━━━━━━━━━\u001b[0m\u001b[37m\u001b[0m \u001b[1m10s\u001b[0m 255ms/step - acc: 0.6387 - loss: 0.6361 - val_acc: 0.6468 - val_loss: 0.6167\n",
      "Epoch 3/10\n",
      "\u001b[1m40/40\u001b[0m \u001b[32m━━━━━━━━━━━━━━━━━━━━\u001b[0m\u001b[37m\u001b[0m \u001b[1m10s\u001b[0m 253ms/step - acc: 0.6246 - loss: 0.6505 - val_acc: 0.6617 - val_loss: 0.6037\n",
      "Epoch 4/10\n",
      "\u001b[1m40/40\u001b[0m \u001b[32m━━━━━━━━━━━━━━━━━━━━\u001b[0m\u001b[37m\u001b[0m \u001b[1m10s\u001b[0m 254ms/step - acc: 0.6681 - loss: 0.6364 - val_acc: 0.6468 - val_loss: 0.5974\n",
      "Epoch 5/10\n",
      "\u001b[1m40/40\u001b[0m \u001b[32m━━━━━━━━━━━━━━━━━━━━\u001b[0m\u001b[37m\u001b[0m \u001b[1m10s\u001b[0m 256ms/step - acc: 0.6331 - loss: 0.6069 - val_acc: 0.6318 - val_loss: 0.5980\n",
      "Epoch 6/10\n",
      "\u001b[1m40/40\u001b[0m \u001b[32m━━━━━━━━━━━━━━━━━━━━\u001b[0m\u001b[37m\u001b[0m \u001b[1m10s\u001b[0m 252ms/step - acc: 0.6502 - loss: 0.6132 - val_acc: 0.6368 - val_loss: 0.6218\n",
      "Epoch 7/10\n",
      "\u001b[1m40/40\u001b[0m \u001b[32m━━━━━━━━━━━━━━━━━━━━\u001b[0m\u001b[37m\u001b[0m \u001b[1m10s\u001b[0m 256ms/step - acc: 0.6239 - loss: 0.6248 - val_acc: 0.6517 - val_loss: 0.6020\n",
      "Epoch 8/10\n",
      "\u001b[1m40/40\u001b[0m \u001b[32m━━━━━━━━━━━━━━━━━━━━\u001b[0m\u001b[37m\u001b[0m \u001b[1m10s\u001b[0m 253ms/step - acc: 0.6632 - loss: 0.6053 - val_acc: 0.6617 - val_loss: 0.6025\n",
      "Epoch 9/10\n",
      "\u001b[1m40/40\u001b[0m \u001b[32m━━━━━━━━━━━━━━━━━━━━\u001b[0m\u001b[37m\u001b[0m \u001b[1m10s\u001b[0m 253ms/step - acc: 0.6286 - loss: 0.6323 - val_acc: 0.6766 - val_loss: 0.6102\n",
      "Epoch 10/10\n",
      "\u001b[1m40/40\u001b[0m \u001b[32m━━━━━━━━━━━━━━━━━━━━\u001b[0m\u001b[37m\u001b[0m \u001b[1m10s\u001b[0m 256ms/step - acc: 0.6401 - loss: 0.6108 - val_acc: 0.6468 - val_loss: 0.6258\n"
     ]
    }
   ],
   "source": [
    "history = model.fit(\n",
    "    train_generator,\n",
    "    epochs=10,\n",
    "    validation_data=validation_generator\n",
    ")"
   ]
  },
  {
   "cell_type": "code",
   "execution_count": 27,
   "id": "7843542c-c300-4e31-bc56-cbc221cfdfd5",
   "metadata": {
    "execution": {
     "iopub.execute_input": "2024-12-06T21:58:38.182114Z",
     "iopub.status.busy": "2024-12-06T21:58:38.181560Z",
     "iopub.status.idle": "2024-12-06T21:58:38.185410Z",
     "shell.execute_reply": "2024-12-06T21:58:38.184812Z",
     "shell.execute_reply.started": "2024-12-06T21:58:38.182090Z"
    }
   },
   "outputs": [],
   "source": [
    "acc_aug = history.history['acc']\n",
    "val_acc_aug = history.history['val_acc']\n",
    "loss_aug = history.history['loss']\n",
    "val_loss_aug = history.history['val_loss']\n",
    "epochs_aug = range(1, len(acc) + 1)"
   ]
  },
  {
   "cell_type": "code",
   "execution_count": 28,
   "id": "b5239540-de13-4d23-a408-5e44eeccc64d",
   "metadata": {
    "execution": {
     "iopub.execute_input": "2024-12-06T21:58:39.720957Z",
     "iopub.status.busy": "2024-12-06T21:58:39.720636Z",
     "iopub.status.idle": "2024-12-06T21:58:39.725188Z",
     "shell.execute_reply": "2024-12-06T21:58:39.724712Z",
     "shell.execute_reply.started": "2024-12-06T21:58:39.720933Z"
    }
   },
   "outputs": [
    {
     "data": {
      "text/plain": [
       "np.float64(0.6086)"
      ]
     },
     "execution_count": 28,
     "metadata": {},
     "output_type": "execute_result"
    }
   ],
   "source": [
    "loss_mean_aug = np.mean(val_loss_aug).round(4)\n",
    "loss_mean_aug"
   ]
  },
  {
   "cell_type": "code",
   "execution_count": 29,
   "id": "c3bae32b-e889-4325-9b3f-c1a47eae51de",
   "metadata": {
    "execution": {
     "iopub.execute_input": "2024-12-06T21:58:44.749074Z",
     "iopub.status.busy": "2024-12-06T21:58:44.748749Z",
     "iopub.status.idle": "2024-12-06T21:58:44.753454Z",
     "shell.execute_reply": "2024-12-06T21:58:44.752903Z",
     "shell.execute_reply.started": "2024-12-06T21:58:44.749054Z"
    }
   },
   "outputs": [
    {
     "data": {
      "text/plain": [
       "np.float64(0.65)"
      ]
     },
     "execution_count": 29,
     "metadata": {},
     "output_type": "execute_result"
    }
   ],
   "source": [
    "acc_mean_aug = np.mean(val_acc_aug[5:10]).round(2)\n",
    "acc_mean_aug"
   ]
  }
 ],
 "metadata": {
  "kernelspec": {
   "display_name": "saturn (Python 3)",
   "language": "python",
   "name": "python3"
  },
  "language_info": {
   "codemirror_mode": {
    "name": "ipython",
    "version": 3
   },
   "file_extension": ".py",
   "mimetype": "text/x-python",
   "name": "python",
   "nbconvert_exporter": "python",
   "pygments_lexer": "ipython3",
   "version": "3.12.7"
  }
 },
 "nbformat": 4,
 "nbformat_minor": 5
}
