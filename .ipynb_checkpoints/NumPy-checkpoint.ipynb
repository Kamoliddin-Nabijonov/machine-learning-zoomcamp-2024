{
 "cells": [
  {
   "cell_type": "code",
   "execution_count": 1,
   "id": "704c67cf-ddc2-4133-804c-ffe37933184f",
   "metadata": {},
   "outputs": [],
   "source": [
    "import numpy as np"
   ]
  },
  {
   "cell_type": "code",
   "execution_count": 3,
   "id": "09445baa-a3a8-4824-b96f-cd09135c7c45",
   "metadata": {},
   "outputs": [
    {
     "data": {
      "text/plain": [
       "array([0., 0., 0., 0., 0., 0., 0., 0., 0., 0.])"
      ]
     },
     "execution_count": 3,
     "metadata": {},
     "output_type": "execute_result"
    }
   ],
   "source": [
    "zeros = np.zeros(10)\n",
    "zeros"
   ]
  },
  {
   "cell_type": "code",
   "execution_count": 4,
   "id": "e061a3d1-0001-4052-8d22-5fc41da21288",
   "metadata": {},
   "outputs": [
    {
     "data": {
      "text/plain": [
       "array([1., 1., 1., 1., 1., 1., 1., 1., 1., 1.])"
      ]
     },
     "execution_count": 4,
     "metadata": {},
     "output_type": "execute_result"
    }
   ],
   "source": [
    "ones = np.ones(10)\n",
    "ones"
   ]
  },
  {
   "cell_type": "code",
   "execution_count": 5,
   "id": "b8f2a80f-0be1-4a4e-9ffc-46c139e3a05a",
   "metadata": {},
   "outputs": [
    {
     "data": {
      "text/plain": [
       "array([7, 7, 7, 7, 7, 7, 7, 7, 7, 7])"
      ]
     },
     "execution_count": 5,
     "metadata": {},
     "output_type": "execute_result"
    }
   ],
   "source": [
    "array = np.full(10, 7)\n",
    "array"
   ]
  },
  {
   "cell_type": "code",
   "execution_count": 6,
   "id": "0a100647-d73b-419a-918e-a2e4ffacef88",
   "metadata": {},
   "outputs": [
    {
     "data": {
      "text/plain": [
       "array([8, 8, 8, 8, 8, 8, 8, 8, 8, 8])"
      ]
     },
     "execution_count": 6,
     "metadata": {},
     "output_type": "execute_result"
    }
   ],
   "source": [
    "array = np.repeat(8, 10)\n",
    "array"
   ]
  },
  {
   "cell_type": "code",
   "execution_count": 8,
   "id": "258326f5-cf40-4568-828c-a7515fe8812e",
   "metadata": {},
   "outputs": [
    {
     "data": {
      "text/plain": [
       "array([1, 1, 1, 1, 1, 2, 2, 2, 2, 2, 3, 3, 3, 3, 3])"
      ]
     },
     "execution_count": 8,
     "metadata": {},
     "output_type": "execute_result"
    }
   ],
   "source": [
    "array = np.repeat([1, 2, 3], 5)\n",
    "array"
   ]
  },
  {
   "cell_type": "code",
   "execution_count": 9,
   "id": "04947dfd-b9e5-4347-8907-b7cfd73d6c6d",
   "metadata": {},
   "outputs": [
    {
     "data": {
      "text/plain": [
       "array([5, 6, 6, 7, 7, 7])"
      ]
     },
     "execution_count": 9,
     "metadata": {},
     "output_type": "execute_result"
    }
   ],
   "source": [
    "array = np.repeat([5, 6, 7], [1, 2, 3])\n",
    "array"
   ]
  },
  {
   "cell_type": "code",
   "execution_count": 11,
   "id": "ca5a4992-08fe-401d-8b3c-e093b5da3009",
   "metadata": {},
   "outputs": [
    {
     "data": {
      "text/plain": [
       "5"
      ]
     },
     "execution_count": 11,
     "metadata": {},
     "output_type": "execute_result"
    }
   ],
   "source": [
    "element = array[0]\n",
    "element"
   ]
  },
  {
   "cell_type": "code",
   "execution_count": 12,
   "id": "68b38fc5-cd7c-4a22-b11b-ee189a2913be",
   "metadata": {},
   "outputs": [
    {
     "data": {
      "text/plain": [
       "6"
      ]
     },
     "execution_count": 12,
     "metadata": {},
     "output_type": "execute_result"
    }
   ],
   "source": [
    "element = array[2]\n",
    "element"
   ]
  },
  {
   "cell_type": "code",
   "execution_count": 13,
   "id": "70d178a7-1781-4260-9f8a-e45f7d6f6481",
   "metadata": {},
   "outputs": [
    {
     "name": "stdout",
     "output_type": "stream",
     "text": [
      "[6 6 7]\n"
     ]
    }
   ],
   "source": [
    "print(array[[1, 2, 3]])"
   ]
  },
  {
   "cell_type": "code",
   "execution_count": 15,
   "id": "c64ee78d-7ac1-4e70-8104-f3f70fa74833",
   "metadata": {},
   "outputs": [
    {
     "data": {
      "text/plain": [
       "array([5, 6, 6, 7, 7, 7])"
      ]
     },
     "execution_count": 15,
     "metadata": {},
     "output_type": "execute_result"
    }
   ],
   "source": [
    "array"
   ]
  },
  {
   "cell_type": "code",
   "execution_count": 16,
   "id": "9c5144ee-8435-43e4-bf7e-3241c71a652e",
   "metadata": {},
   "outputs": [
    {
     "data": {
      "text/plain": [
       "array([5, 1, 6, 7, 7, 7])"
      ]
     },
     "execution_count": 16,
     "metadata": {},
     "output_type": "execute_result"
    }
   ],
   "source": [
    "array[1] = 1\n",
    "array"
   ]
  },
  {
   "cell_type": "code",
   "execution_count": 18,
   "id": "b5126bd4-dfd2-4a02-8b59-6442da909bcd",
   "metadata": {},
   "outputs": [
    {
     "name": "stdout",
     "output_type": "stream",
     "text": [
      "[1, 2, 3, 4, 5]\n",
      "[1 2 3 4 5]\n",
      "<class 'list'>\n",
      "<class 'numpy.ndarray'>\n"
     ]
    }
   ],
   "source": [
    "elements = [1, 2, 3, 4, 5]\n",
    "array = np.array(elements)\n",
    "print(elements)\n",
    "print(array)\n",
    "print(type(elements))\n",
    "print(type(array))"
   ]
  },
  {
   "cell_type": "code",
   "execution_count": 19,
   "id": "5496b31e-6c03-4d19-9926-3d6abf0cec88",
   "metadata": {},
   "outputs": [
    {
     "data": {
      "text/plain": [
       "array([0, 1, 2, 3, 4, 5, 6, 7, 8, 9])"
      ]
     },
     "execution_count": 19,
     "metadata": {},
     "output_type": "execute_result"
    }
   ],
   "source": [
    "np.arange(10)"
   ]
  },
  {
   "cell_type": "code",
   "execution_count": 23,
   "id": "8fe55b6e-ef84-45bd-abfe-935c3f72e705",
   "metadata": {},
   "outputs": [
    {
     "data": {
      "text/plain": [
       "array([0. , 0.1, 0.2, 0.3, 0.4, 0.5, 0.6, 0.7, 0.8, 0.9, 1. ])"
      ]
     },
     "execution_count": 23,
     "metadata": {},
     "output_type": "execute_result"
    }
   ],
   "source": [
    "thresholds = np.linspace(0, 1, 11)\n",
    "thresholds"
   ]
  },
  {
   "cell_type": "raw",
   "id": "c8c6ea9c-bee5-424f-8512-716153d1c450",
   "metadata": {},
   "source": [
    "In NumPy all elements of an array must have the same type. These types are called dtypes.\n",
    "\n",
    "There are four broad categories of dtypes:\n",
    "\n",
    "Unsigned integers (uint) – integers that are always positive (or zero)\n",
    "Signed integers (int) – integers that can be positive and negative\n",
    "Floats (float) – real numbers\n",
    "Booleans (bool) – only True and False values\n",
    "There are multiple variations of each dtype depending on the number of bits used for representing the value in memory."
   ]
  },
  {
   "cell_type": "raw",
   "id": "69f42546-97f5-4097-8782-f1307a608e3e",
   "metadata": {},
   "source": [
    "When creating an array, we can specify the dtype. For example, when using np.zeros and np.ones, the default dtype is float64. We can specify the dtype when creating an array:"
   ]
  },
  {
   "cell_type": "code",
   "execution_count": 25,
   "id": "a6c2eea9-ee41-4f84-8c8a-283c5f21b3e6",
   "metadata": {},
   "outputs": [
    {
     "data": {
      "text/plain": [
       "array([0, 0, 0, 0, 0, 0, 0, 0, 0, 0], dtype=uint8)"
      ]
     },
     "execution_count": 25,
     "metadata": {},
     "output_type": "execute_result"
    }
   ],
   "source": [
    "zeros = np.zeros(10, dtype=np.uint8)\n",
    "zeros"
   ]
  },
  {
   "cell_type": "markdown",
   "id": "e04eaf19-7df7-427c-a46c-415ae615bbbd",
   "metadata": {},
   "source": [
    "**Warning:** Be careful when choosing the dtype for an array. If you accidentally choose a dtype that’s too narrow, NumPy won’t warn you when you put in a big number. It will simply truncate them."
   ]
  },
  {
   "cell_type": "code",
   "execution_count": 26,
   "id": "6ce32380-ebe4-454f-843c-90cc1599a34f",
   "metadata": {},
   "outputs": [
    {
     "name": "stdout",
     "output_type": "stream",
     "text": [
      "44\n"
     ]
    },
    {
     "name": "stderr",
     "output_type": "stream",
     "text": [
      "/var/folders/96/_scwp5r13h12qhlr0r4c0xx80000gn/T/ipykernel_43085/2020449431.py:1: DeprecationWarning: NumPy will stop allowing conversion of out-of-bound Python integers to integer arrays.  The conversion of 300 to uint8 will fail in the future.\n",
      "For the old behavior, usually:\n",
      "    np.array(value).astype(dtype)\n",
      "will give the desired result (the cast overflows).\n",
      "  zeros[0] = 300\n"
     ]
    }
   ],
   "source": [
    "zeros[0] = 300\n",
    "print(zeros[0])"
   ]
  },
  {
   "cell_type": "code",
   "execution_count": 28,
   "id": "b2ec6266-65f3-4629-9aed-03148870aff8",
   "metadata": {},
   "outputs": [
    {
     "name": "stdout",
     "output_type": "stream",
     "text": [
      "0\n",
      "1\n",
      "2\n",
      "3\n",
      "4\n"
     ]
    }
   ],
   "source": [
    "for i in np.arange(5):\n",
    "    print(i)"
   ]
  },
  {
   "cell_type": "code",
   "execution_count": 29,
   "id": "1fdddf6b-e693-4443-a6b3-bc5814a65775",
   "metadata": {},
   "outputs": [
    {
     "data": {
      "text/plain": [
       "array([[0., 0.],\n",
       "       [0., 0.],\n",
       "       [0., 0.],\n",
       "       [0., 0.],\n",
       "       [0., 0.]], dtype=float32)"
      ]
     },
     "execution_count": 29,
     "metadata": {},
     "output_type": "execute_result"
    }
   ],
   "source": [
    "zeros = np.zeros((5, 2), dtype=np.float32)\n",
    "zeros"
   ]
  },
  {
   "cell_type": "code",
   "execution_count": 31,
   "id": "e8389ef4-e1af-4335-bff9-1e5452d6dbb3",
   "metadata": {},
   "outputs": [
    {
     "name": "stdout",
     "output_type": "stream",
     "text": [
      "(5, 2)\n"
     ]
    }
   ],
   "source": [
    "print(zeros.shape)"
   ]
  },
  {
   "cell_type": "code",
   "execution_count": 32,
   "id": "ae5ce4de-3b80-44bd-b629-8f2dba318039",
   "metadata": {},
   "outputs": [
    {
     "name": "stdout",
     "output_type": "stream",
     "text": [
      "[[1 2 3]\n",
      " [4 5 6]\n",
      " [7 8 9]]\n",
      "<class 'numpy.ndarray'>\n",
      "(3, 3)\n"
     ]
    }
   ],
   "source": [
    "numbers = [\n",
    "    [1, 2, 3],\n",
    "    [4, 5, 6],\n",
    "    [7, 8, 9]\n",
    "]\n",
    "\n",
    "numbers = np.array(numbers)\n",
    "print(numbers)\n",
    "print(type(numbers))\n",
    "print(numbers.shape)"
   ]
  },
  {
   "cell_type": "code",
   "execution_count": 33,
   "id": "df9517e6-9af7-4077-8eee-7fd97b593e71",
   "metadata": {},
   "outputs": [
    {
     "name": "stdout",
     "output_type": "stream",
     "text": [
      "6\n"
     ]
    }
   ],
   "source": [
    "print(numbers[1,2])"
   ]
  },
  {
   "cell_type": "code",
   "execution_count": 34,
   "id": "3d73d4bd-908e-4b8b-a2de-7915904863ab",
   "metadata": {},
   "outputs": [
    {
     "data": {
      "text/plain": [
       "array([[ 1, 10,  3],\n",
       "       [ 4,  5,  6],\n",
       "       [ 7,  8,  9]])"
      ]
     },
     "execution_count": 34,
     "metadata": {},
     "output_type": "execute_result"
    }
   ],
   "source": [
    "numbers[0, 1] = 10\n",
    "numbers"
   ]
  },
  {
   "cell_type": "code",
   "execution_count": 35,
   "id": "fba5282a-6be8-4284-85bc-b5d48e7f3ba1",
   "metadata": {},
   "outputs": [
    {
     "data": {
      "text/plain": [
       "array([ 1, 10,  3])"
      ]
     },
     "execution_count": 35,
     "metadata": {},
     "output_type": "execute_result"
    }
   ],
   "source": [
    "numbers[0]"
   ]
  },
  {
   "cell_type": "code",
   "execution_count": 37,
   "id": "c97c4899-4462-4139-90ef-a5e3fc90f915",
   "metadata": {},
   "outputs": [
    {
     "data": {
      "text/plain": [
       "array([3, 6, 9])"
      ]
     },
     "execution_count": 37,
     "metadata": {},
     "output_type": "execute_result"
    }
   ],
   "source": [
    "numbers[:, 2]"
   ]
  },
  {
   "cell_type": "code",
   "execution_count": 39,
   "id": "f29828ac-ec35-4782-8fcf-6302742d3982",
   "metadata": {},
   "outputs": [
    {
     "data": {
      "text/plain": [
       "array([[ 1, 10,  3],\n",
       "       [ 1,  1,  1],\n",
       "       [ 7,  8,  9]])"
      ]
     },
     "execution_count": 39,
     "metadata": {},
     "output_type": "execute_result"
    }
   ],
   "source": [
    "numbers[1] = [1, 1, 1]\n",
    "numbers"
   ]
  },
  {
   "cell_type": "code",
   "execution_count": 41,
   "id": "1f2e1be7-4131-4338-871d-4d91929f63df",
   "metadata": {},
   "outputs": [
    {
     "data": {
      "text/plain": [
       "array([[ 1, 10,  1],\n",
       "       [ 1,  1,  1],\n",
       "       [ 7,  8,  1]])"
      ]
     },
     "execution_count": 41,
     "metadata": {},
     "output_type": "execute_result"
    }
   ],
   "source": [
    "numbers[:, 2] = [1, 1, 1]\n",
    "numbers"
   ]
  },
  {
   "cell_type": "code",
   "execution_count": 43,
   "id": "48afa779-6861-4d2d-961a-b77aa6b834bf",
   "metadata": {},
   "outputs": [
    {
     "data": {
      "text/plain": [
       "array([[0.69460724, 0.41150396],\n",
       "       [0.30736589, 0.94214773],\n",
       "       [0.17192654, 0.5893782 ],\n",
       "       [0.24059219, 0.96575353],\n",
       "       [0.52729718, 0.79187616]])"
      ]
     },
     "execution_count": 43,
     "metadata": {},
     "output_type": "execute_result"
    }
   ],
   "source": [
    "arr = np.random.rand(5, 2)\n",
    "arr"
   ]
  },
  {
   "cell_type": "code",
   "execution_count": 53,
   "id": "fd0ba09d-f04d-4d72-8e1b-1547c2eb9545",
   "metadata": {},
   "outputs": [
    {
     "data": {
      "text/plain": [
       "array([[0.4359949 , 0.02592623],\n",
       "       [0.54966248, 0.43532239],\n",
       "       [0.4203678 , 0.33033482],\n",
       "       [0.20464863, 0.61927097],\n",
       "       [0.29965467, 0.26682728]])"
      ]
     },
     "execution_count": 53,
     "metadata": {},
     "output_type": "execute_result"
    }
   ],
   "source": [
    "np.random.seed(2)\n",
    "arr = np.random.rand(5, 2)\n",
    "arr"
   ]
  },
  {
   "cell_type": "code",
   "execution_count": 73,
   "id": "56d12cd7-0d5f-4988-b157-b82c7cd596c8",
   "metadata": {},
   "outputs": [
    {
     "data": {
      "text/plain": [
       "array([[-0.41675785, -0.05626683],\n",
       "       [-2.1361961 ,  1.64027081],\n",
       "       [-1.79343559, -0.84174737],\n",
       "       [ 0.50288142, -1.24528809],\n",
       "       [-1.05795222, -0.90900761]])"
      ]
     },
     "execution_count": 73,
     "metadata": {},
     "output_type": "execute_result"
    }
   ],
   "source": [
    "np.random.seed(2)\n",
    "arr = np.random.randn(5, 2)\n",
    "arr"
   ]
  },
  {
   "cell_type": "code",
   "execution_count": 79,
   "id": "0c5dd70a-42b5-43c7-98fb-d0d15afd097d",
   "metadata": {},
   "outputs": [
    {
     "data": {
      "text/plain": [
       "array([[40, 15],\n",
       "       [72, 22],\n",
       "       [43, 82],\n",
       "       [75,  7],\n",
       "       [34, 49]])"
      ]
     },
     "execution_count": 79,
     "metadata": {},
     "output_type": "execute_result"
    }
   ],
   "source": [
    "np.random.seed(2)\n",
    "randint = np.random.randint(low=0, high=100, size=(5,2))\n",
    "randint"
   ]
  },
  {
   "cell_type": "code",
   "execution_count": 81,
   "id": "d0768abe-8116-4e6a-b518-65575b72fce6",
   "metadata": {},
   "outputs": [
    {
     "name": "stdout",
     "output_type": "stream",
     "text": [
      "before shuffle [0 1 2 3 4]\n",
      "after shuffle [3 2 1 0 4]\n"
     ]
    }
   ],
   "source": [
    "idx = np.arange(5)\n",
    "print('before shuffle', idx)\n",
    "\n",
    "np.random.shuffle(idx)\n",
    "print('after shuffle', idx)"
   ]
  },
  {
   "cell_type": "code",
   "execution_count": 82,
   "id": "c4686dc7-fe6d-4dd2-b925-8ab6b58d604f",
   "metadata": {},
   "outputs": [
    {
     "data": {
      "text/plain": [
       "array([0, 1, 2, 3, 4])"
      ]
     },
     "execution_count": 82,
     "metadata": {},
     "output_type": "execute_result"
    }
   ],
   "source": [
    "rng =  np.arange(5)\n",
    "rng"
   ]
  },
  {
   "cell_type": "code",
   "execution_count": 83,
   "id": "4790de76-ce78-4ffe-bd12-f2548b9f7ccc",
   "metadata": {},
   "outputs": [
    {
     "data": {
      "text/plain": [
       "array([0, 2, 4, 6, 8])"
      ]
     },
     "execution_count": 83,
     "metadata": {},
     "output_type": "execute_result"
    }
   ],
   "source": [
    "rng * 2"
   ]
  },
  {
   "cell_type": "code",
   "execution_count": 84,
   "id": "9c740279-3f42-40a5-8ccd-cfa2a8a7662c",
   "metadata": {},
   "outputs": [
    {
     "data": {
      "text/plain": [
       "array([0, 1, 2, 3, 4])"
      ]
     },
     "execution_count": 84,
     "metadata": {},
     "output_type": "execute_result"
    }
   ],
   "source": [
    "rng"
   ]
  },
  {
   "cell_type": "code",
   "execution_count": 85,
   "id": "aa2337d2-48d5-466d-965b-b2b0f42047b8",
   "metadata": {},
   "outputs": [
    {
     "data": {
      "text/plain": [
       "array([-0.5,  1. ,  2.5,  4. ,  5.5])"
      ]
     },
     "execution_count": 85,
     "metadata": {},
     "output_type": "execute_result"
    }
   ],
   "source": [
    "(rng - 1) * 3 / 2 + 1"
   ]
  },
  {
   "cell_type": "code",
   "execution_count": 90,
   "id": "8baa7834-80d9-4fd6-afa4-5019d7846224",
   "metadata": {},
   "outputs": [
    {
     "name": "stdout",
     "output_type": "stream",
     "text": [
      "[0.00435995 0.00025926 0.00549662 0.00435322 0.00420368]\n",
      "[0 1 2 3 4]\n"
     ]
    }
   ],
   "source": [
    "np.random.seed(2)\n",
    "noise = 0.01 * np.random.rand(5)\n",
    "numbers = np.arange(5)\n",
    "print(noise)\n",
    "print(numbers)"
   ]
  },
  {
   "cell_type": "code",
   "execution_count": 92,
   "id": "c513f2d1-bb9f-462c-a862-184b0ab30941",
   "metadata": {},
   "outputs": [
    {
     "data": {
      "text/plain": [
       "array([0.00435995, 1.00025926, 2.00549662, 3.00435322, 4.00420368])"
      ]
     },
     "execution_count": 92,
     "metadata": {},
     "output_type": "execute_result"
    }
   ],
   "source": [
    "result = numbers + noise\n",
    "result"
   ]
  },
  {
   "cell_type": "code",
   "execution_count": 93,
   "id": "2d7b5949-54ab-4e06-9521-769c0093c6fd",
   "metadata": {},
   "outputs": [
    {
     "data": {
      "text/plain": [
       "array([0.0044, 1.0003, 2.0055, 3.0044, 4.0042])"
      ]
     },
     "execution_count": 93,
     "metadata": {},
     "output_type": "execute_result"
    }
   ],
   "source": [
    "result.round(4)"
   ]
  },
  {
   "cell_type": "code",
   "execution_count": 95,
   "id": "9514eab2-c412-4583-924e-ef09268d9dca",
   "metadata": {},
   "outputs": [
    {
     "data": {
      "text/plain": [
       "array([0.44, 0.03, 0.55])"
      ]
     },
     "execution_count": 95,
     "metadata": {},
     "output_type": "execute_result"
    }
   ],
   "source": [
    "np.random.seed(2)\n",
    "pred = np.random.rand(3).round(2)\n",
    "pred"
   ]
  },
  {
   "cell_type": "code",
   "execution_count": 98,
   "id": "83a69601-5e66-454b-94d3-e745e5983c9f",
   "metadata": {},
   "outputs": [
    {
     "data": {
      "text/plain": [
       "array([0.1936, 0.0009, 0.3025])"
      ]
     },
     "execution_count": 98,
     "metadata": {},
     "output_type": "execute_result"
    }
   ],
   "source": [
    "square = pred * pred\n",
    "square"
   ]
  },
  {
   "cell_type": "code",
   "execution_count": 99,
   "id": "caef17a4-0830-4373-a372-34d15ef55c97",
   "metadata": {},
   "outputs": [
    {
     "data": {
      "text/plain": [
       "array([0.1936, 0.0009, 0.3025])"
      ]
     },
     "execution_count": 99,
     "metadata": {},
     "output_type": "execute_result"
    }
   ],
   "source": [
    "square = pred ** 2\n",
    "square"
   ]
  },
  {
   "cell_type": "code",
   "execution_count": 101,
   "id": "80d17368-3988-4374-99a0-88179a27c524",
   "metadata": {},
   "outputs": [
    {
     "name": "stdout",
     "output_type": "stream",
     "text": [
      "[1.55270722 1.03045453 1.73325302]\n",
      "[-0.82098055 -3.5065579  -0.597837  ]\n",
      "[0.66332496 0.17320508 0.74161985]\n"
     ]
    }
   ],
   "source": [
    "pred_exp = np.exp(pred) # exponent\n",
    "pred_log = np.log(pred) # logarithm\n",
    "pred_sqrt = np.sqrt(pred) # square root\n",
    "\n",
    "print(pred_exp)\n",
    "print(pred_log)\n",
    "print(pred_sqrt)"
   ]
  },
  {
   "cell_type": "code",
   "execution_count": 102,
   "id": "21637cbd-b111-4501-a846-2151e6ed68d8",
   "metadata": {},
   "outputs": [
    {
     "data": {
      "text/plain": [
       "array([0.44, 0.03, 0.55])"
      ]
     },
     "execution_count": 102,
     "metadata": {},
     "output_type": "execute_result"
    }
   ],
   "source": [
    "np.random.seed(2)\n",
    "pred = np.random.rand(3).round(2)\n",
    "pred"
   ]
  },
  {
   "cell_type": "code",
   "execution_count": 105,
   "id": "75a8c0de-619f-4a38-8067-50971b7a01ba",
   "metadata": {},
   "outputs": [
    {
     "data": {
      "text/plain": [
       "array([False, False,  True])"
      ]
     },
     "execution_count": 105,
     "metadata": {},
     "output_type": "execute_result"
    }
   ],
   "source": [
    "result = pred >= 0.5\n",
    "result"
   ]
  },
  {
   "cell_type": "code",
   "execution_count": 106,
   "id": "06b9a77f-574a-4c5c-86e8-3082c528aac2",
   "metadata": {},
   "outputs": [
    {
     "name": "stdout",
     "output_type": "stream",
     "text": [
      "[0.44 0.03 0.55]\n",
      "[0.44 0.42 0.33]\n"
     ]
    }
   ],
   "source": [
    "np.random.seed(2)\n",
    "pred1 = np.random.rand(3).round(2)\n",
    "pred2 = np.random.rand(3).round(2)\n",
    "print(pred1)\n",
    "print(pred2)"
   ]
  },
  {
   "cell_type": "code",
   "execution_count": 107,
   "id": "d991360a-caf4-4ad9-a999-9820ce2269e2",
   "metadata": {},
   "outputs": [
    {
     "data": {
      "text/plain": [
       "array([ True, False,  True])"
      ]
     },
     "execution_count": 107,
     "metadata": {},
     "output_type": "execute_result"
    }
   ],
   "source": [
    "pred1 >= pred2"
   ]
  },
  {
   "cell_type": "code",
   "execution_count": 108,
   "id": "cc8b9294-303b-4d69-af46-dcafadd71fa6",
   "metadata": {},
   "outputs": [
    {
     "name": "stdout",
     "output_type": "stream",
     "text": [
      "[ True False  True  True  True]\n",
      "[False False  True False False]\n"
     ]
    }
   ],
   "source": [
    "np.random.seed(2)\n",
    "pred1 = np.random.rand(5) >= 0.3\n",
    "pred2 = np.random.rand(5) >= 0.4\n",
    "print(pred1)\n",
    "print(pred2)"
   ]
  },
  {
   "cell_type": "code",
   "execution_count": 110,
   "id": "9fc744ff-2f4f-431c-a214-af727cb92f98",
   "metadata": {},
   "outputs": [
    {
     "data": {
      "text/plain": [
       "array([False, False,  True, False, False])"
      ]
     },
     "execution_count": 110,
     "metadata": {},
     "output_type": "execute_result"
    }
   ],
   "source": [
    "res_and = pred1 & pred2\n",
    "res_and"
   ]
  },
  {
   "cell_type": "code",
   "execution_count": 111,
   "id": "389741dc-55c7-4bec-987e-61bef9cd2623",
   "metadata": {},
   "outputs": [
    {
     "data": {
      "text/plain": [
       "array([ True, False,  True,  True,  True])"
      ]
     },
     "execution_count": 111,
     "metadata": {},
     "output_type": "execute_result"
    }
   ],
   "source": [
    "res_or = pred1 | pred2\n",
    "res_or"
   ]
  },
  {
   "cell_type": "code",
   "execution_count": 113,
   "id": "a4560915-cae8-4bcb-80eb-3ad6b5a6c8ac",
   "metadata": {},
   "outputs": [
    {
     "data": {
      "text/plain": [
       "array([0.44, 0.03, 0.55])"
      ]
     },
     "execution_count": 113,
     "metadata": {},
     "output_type": "execute_result"
    }
   ],
   "source": [
    "np.random.seed(2)\n",
    "pred = np.random.rand(3).round(2)\n",
    "pred"
   ]
  },
  {
   "cell_type": "code",
   "execution_count": 115,
   "id": "5c85c1e8-f0a7-4c22-b740-618c2548e294",
   "metadata": {},
   "outputs": [
    {
     "data": {
      "text/plain": [
       "1.02"
      ]
     },
     "execution_count": 115,
     "metadata": {},
     "output_type": "execute_result"
    }
   ],
   "source": [
    "pred_sum = pred.sum()\n",
    "pred_sum"
   ]
  },
  {
   "cell_type": "code",
   "execution_count": 116,
   "id": "c09716fb-2268-481e-bb30-4df4dbe5497a",
   "metadata": {},
   "outputs": [
    {
     "name": "stdout",
     "output_type": "stream",
     "text": [
      "min = 0.03\n",
      "mean = 0.34\n",
      "max = 0.55\n",
      "std = 0.22\n"
     ]
    }
   ],
   "source": [
    "print('min = %.2f' % pred.min())\n",
    "print('mean = %.2f' % pred.mean())\n",
    "print('max = %.2f' % pred.max())\n",
    "print('std = %.2f' % pred.std())"
   ]
  },
  {
   "cell_type": "code",
   "execution_count": 117,
   "id": "399d7daf-7431-4436-9132-27067aec5a7c",
   "metadata": {},
   "outputs": [
    {
     "data": {
      "text/plain": [
       "array([[0.44, 0.03, 0.55],\n",
       "       [0.44, 0.42, 0.33],\n",
       "       [0.2 , 0.62, 0.3 ],\n",
       "       [0.27, 0.62, 0.53]])"
      ]
     },
     "execution_count": 117,
     "metadata": {},
     "output_type": "execute_result"
    }
   ],
   "source": [
    "np.random.seed(2)\n",
    "matrix = np.random.rand(4, 3).round(2)\n",
    "matrix"
   ]
  },
  {
   "cell_type": "code",
   "execution_count": 118,
   "id": "4675da24-7a3b-4278-a4fe-f54b069a1711",
   "metadata": {},
   "outputs": [
    {
     "data": {
      "text/plain": [
       "0.62"
      ]
     },
     "execution_count": 118,
     "metadata": {},
     "output_type": "execute_result"
    }
   ],
   "source": [
    "matrix.max()"
   ]
  },
  {
   "cell_type": "code",
   "execution_count": 119,
   "id": "ab9f331d-022a-464e-84d2-1a2df5c770ca",
   "metadata": {},
   "outputs": [
    {
     "data": {
      "text/plain": [
       "array([0.55, 0.44, 0.62, 0.62])"
      ]
     },
     "execution_count": 119,
     "metadata": {},
     "output_type": "execute_result"
    }
   ],
   "source": [
    "matrix.max(axis=1)"
   ]
  },
  {
   "cell_type": "code",
   "execution_count": 120,
   "id": "77375dfe-bb04-4206-bf94-d5a92a7123b5",
   "metadata": {},
   "outputs": [
    {
     "data": {
      "text/plain": [
       "array([0.44, 0.62, 0.55])"
      ]
     },
     "execution_count": 120,
     "metadata": {},
     "output_type": "execute_result"
    }
   ],
   "source": [
    "matrix.max(axis=0)"
   ]
  },
  {
   "cell_type": "raw",
   "id": "1b2098e9-ce7c-46bd-86ad-2f3213e241e4",
   "metadata": {},
   "source": [
    "In NumPy, “axis=1” means applying it to rows and “axis=0” means applying it to columns:"
   ]
  },
  {
   "cell_type": "code",
   "execution_count": 121,
   "id": "246e649b-4cf7-44e7-82a5-4452b2b8bb7d",
   "metadata": {},
   "outputs": [
    {
     "data": {
      "text/plain": [
       "array([1.02, 1.19, 1.12, 1.42])"
      ]
     },
     "execution_count": 121,
     "metadata": {},
     "output_type": "execute_result"
    }
   ],
   "source": [
    "matrix.sum(axis=1)"
   ]
  },
  {
   "cell_type": "code",
   "execution_count": 127,
   "id": "f7f687b9-1656-4e0b-87c4-becde3bfeef4",
   "metadata": {},
   "outputs": [
    {
     "data": {
      "text/plain": [
       "array([0.44, 0.03, 0.55, 0.44])"
      ]
     },
     "execution_count": 127,
     "metadata": {},
     "output_type": "execute_result"
    }
   ],
   "source": [
    "np.random.seed(2)\n",
    "pred = np.random.rand(4).round(2)\n",
    "pred"
   ]
  },
  {
   "cell_type": "raw",
   "id": "1f8a72ae-80d1-4f60-9c5a-44d2e3b2c37d",
   "metadata": {},
   "source": [
    "Copy sort:"
   ]
  },
  {
   "cell_type": "code",
   "execution_count": 128,
   "id": "76b9e54a-3740-4c20-9881-d1d5a7f558b4",
   "metadata": {},
   "outputs": [
    {
     "data": {
      "text/plain": [
       "array([0.03, 0.44, 0.44, 0.55])"
      ]
     },
     "execution_count": 128,
     "metadata": {},
     "output_type": "execute_result"
    }
   ],
   "source": [
    "np.sort(pred)"
   ]
  },
  {
   "cell_type": "raw",
   "id": "7f90cbeb-7a5b-4cb6-a9f9-acd0ee5aad38",
   "metadata": {},
   "source": [
    "In place sort:"
   ]
  },
  {
   "cell_type": "code",
   "execution_count": 125,
   "id": "6522c9d0-fe70-48ff-8657-570514bf102c",
   "metadata": {},
   "outputs": [
    {
     "data": {
      "text/plain": [
       "array([0.03, 0.44, 0.44, 0.55])"
      ]
     },
     "execution_count": 125,
     "metadata": {},
     "output_type": "execute_result"
    }
   ],
   "source": [
    "pred.sort()\n",
    "pred"
   ]
  },
  {
   "cell_type": "code",
   "execution_count": 129,
   "id": "0be64aaa-1862-44ae-9ba3-583b1a1f336e",
   "metadata": {},
   "outputs": [
    {
     "data": {
      "text/plain": [
       "array([1, 0, 3, 2])"
      ]
     },
     "execution_count": 129,
     "metadata": {},
     "output_type": "execute_result"
    }
   ],
   "source": [
    "idx = pred.argsort()\n",
    "idx"
   ]
  },
  {
   "cell_type": "code",
   "execution_count": 130,
   "id": "835feacb-f649-45e4-b651-6419771ebc2d",
   "metadata": {},
   "outputs": [
    {
     "data": {
      "text/plain": [
       "array([0.03, 0.44, 0.44, 0.55])"
      ]
     },
     "execution_count": 130,
     "metadata": {},
     "output_type": "execute_result"
    }
   ],
   "source": [
    "pred[idx]"
   ]
  },
  {
   "cell_type": "code",
   "execution_count": 143,
   "id": "74e142d1-9bbb-491d-b54d-7defc76cb6e2",
   "metadata": {},
   "outputs": [
    {
     "data": {
      "text/plain": [
       "(12,)"
      ]
     },
     "execution_count": 143,
     "metadata": {},
     "output_type": "execute_result"
    }
   ],
   "source": [
    "rng = np.arange(12)\n",
    "rng.shape"
   ]
  },
  {
   "cell_type": "code",
   "execution_count": 144,
   "id": "85cb29ea-3cb2-4555-a883-e21a7a986e91",
   "metadata": {},
   "outputs": [
    {
     "data": {
      "text/plain": [
       "array([ 0,  1,  2,  3,  4,  5,  6,  7,  8,  9, 10, 11])"
      ]
     },
     "execution_count": 144,
     "metadata": {},
     "output_type": "execute_result"
    }
   ],
   "source": [
    "rng"
   ]
  },
  {
   "cell_type": "code",
   "execution_count": 145,
   "id": "c404a519-43d7-4aa4-a11e-e29f93d01f80",
   "metadata": {},
   "outputs": [
    {
     "data": {
      "text/plain": [
       "array([[ 0,  1,  2],\n",
       "       [ 3,  4,  5],\n",
       "       [ 6,  7,  8],\n",
       "       [ 9, 10, 11]])"
      ]
     },
     "execution_count": 145,
     "metadata": {},
     "output_type": "execute_result"
    }
   ],
   "source": [
    "rng.reshape(4, 3)"
   ]
  },
  {
   "cell_type": "code",
   "execution_count": 146,
   "id": "86b72ec6-8650-4a51-9de0-6ebf5402f48c",
   "metadata": {},
   "outputs": [
    {
     "ename": "ValueError",
     "evalue": "cannot reshape array of size 12 into shape (4,4)",
     "output_type": "error",
     "traceback": [
      "\u001b[0;31m---------------------------------------------------------------------------\u001b[0m",
      "\u001b[0;31mValueError\u001b[0m                                Traceback (most recent call last)",
      "Cell \u001b[0;32mIn[146], line 1\u001b[0m\n\u001b[0;32m----> 1\u001b[0m rng\u001b[38;5;241m.\u001b[39mreshape(\u001b[38;5;241m4\u001b[39m, \u001b[38;5;241m4\u001b[39m)\n",
      "\u001b[0;31mValueError\u001b[0m: cannot reshape array of size 12 into shape (4,4)"
     ]
    }
   ],
   "source": [
    "rng.reshape(4, 4)"
   ]
  },
  {
   "cell_type": "code",
   "execution_count": 147,
   "id": "02329551-a084-450a-9b80-23bda21ae170",
   "metadata": {},
   "outputs": [
    {
     "name": "stdout",
     "output_type": "stream",
     "text": [
      "[0 1 2]\n",
      "[[0 1]\n",
      " [2 3]\n",
      " [4 5]]\n"
     ]
    }
   ],
   "source": [
    "vec = np.arange(3)\n",
    "mat = np.arange(6).reshape(3, 2)\n",
    "print(vec)\n",
    "print(mat)"
   ]
  },
  {
   "cell_type": "code",
   "execution_count": 148,
   "id": "19955587-2f84-4588-b628-70e6ce42e3f5",
   "metadata": {},
   "outputs": [
    {
     "data": {
      "text/plain": [
       "array([0, 1, 2, 0, 1, 2])"
      ]
     },
     "execution_count": 148,
     "metadata": {},
     "output_type": "execute_result"
    }
   ],
   "source": [
    "np.concatenate([vec, vec])"
   ]
  },
  {
   "cell_type": "code",
   "execution_count": 149,
   "id": "79b9e7ea-f185-4459-b53e-2f410678966c",
   "metadata": {},
   "outputs": [
    {
     "data": {
      "text/plain": [
       "array([0, 1, 2, 0, 1, 2])"
      ]
     },
     "execution_count": 149,
     "metadata": {},
     "output_type": "execute_result"
    }
   ],
   "source": [
    "np.hstack([vec, vec])"
   ]
  },
  {
   "cell_type": "code",
   "execution_count": 150,
   "id": "e5b3b73f-7985-4049-b5a7-0dfcdedd2e7d",
   "metadata": {},
   "outputs": [
    {
     "data": {
      "text/plain": [
       "array([[0, 1, 0, 1],\n",
       "       [2, 3, 2, 3],\n",
       "       [4, 5, 4, 5]])"
      ]
     },
     "execution_count": 150,
     "metadata": {},
     "output_type": "execute_result"
    }
   ],
   "source": [
    "np.hstack([mat, mat])"
   ]
  },
  {
   "cell_type": "code",
   "execution_count": 151,
   "id": "5e08fc50-1702-4cab-9b02-a187114a9384",
   "metadata": {},
   "outputs": [
    {
     "data": {
      "text/plain": [
       "array([[0, 1],\n",
       "       [2, 3],\n",
       "       [4, 5],\n",
       "       [0, 1],\n",
       "       [2, 3],\n",
       "       [4, 5]])"
      ]
     },
     "execution_count": 151,
     "metadata": {},
     "output_type": "execute_result"
    }
   ],
   "source": [
    "np.concatenate([mat, mat])"
   ]
  },
  {
   "cell_type": "code",
   "execution_count": 153,
   "id": "0e3e68fc-f51c-42bd-9d51-b4d8c61adaad",
   "metadata": {},
   "outputs": [
    {
     "data": {
      "text/plain": [
       "array([[0, 1, 0],\n",
       "       [2, 3, 1],\n",
       "       [4, 5, 2]])"
      ]
     },
     "execution_count": 153,
     "metadata": {},
     "output_type": "execute_result"
    }
   ],
   "source": [
    "np.column_stack([mat, vec])"
   ]
  },
  {
   "cell_type": "code",
   "execution_count": 154,
   "id": "16b7f3d7-36dd-49b1-b002-8b7cf9c7691e",
   "metadata": {},
   "outputs": [
    {
     "data": {
      "text/plain": [
       "array([[0, 0],\n",
       "       [1, 1],\n",
       "       [2, 2]])"
      ]
     },
     "execution_count": 154,
     "metadata": {},
     "output_type": "execute_result"
    }
   ],
   "source": [
    "np.column_stack([vec, vec])"
   ]
  },
  {
   "cell_type": "code",
   "execution_count": 155,
   "id": "a9b8d733-246d-4932-9290-a31c8f82680b",
   "metadata": {},
   "outputs": [
    {
     "data": {
      "text/plain": [
       "array([[0, 1, 2],\n",
       "       [0, 1, 2]])"
      ]
     },
     "execution_count": 155,
     "metadata": {},
     "output_type": "execute_result"
    }
   ],
   "source": [
    "np.vstack([vec, vec])"
   ]
  },
  {
   "cell_type": "code",
   "execution_count": 156,
   "id": "8934b22f-b71e-4d4f-8d0a-f2e961c4369d",
   "metadata": {},
   "outputs": [
    {
     "data": {
      "text/plain": [
       "array([[0, 1],\n",
       "       [2, 3],\n",
       "       [4, 5],\n",
       "       [0, 1],\n",
       "       [2, 3],\n",
       "       [4, 5]])"
      ]
     },
     "execution_count": 156,
     "metadata": {},
     "output_type": "execute_result"
    }
   ],
   "source": [
    "np.vstack([mat, mat])"
   ]
  },
  {
   "cell_type": "code",
   "execution_count": 157,
   "id": "014ff82f-2c2f-4667-9a83-08041d806535",
   "metadata": {},
   "outputs": [
    {
     "data": {
      "text/plain": [
       "array([[0, 1, 2],\n",
       "       [0, 2, 4],\n",
       "       [1, 3, 5]])"
      ]
     },
     "execution_count": 157,
     "metadata": {},
     "output_type": "execute_result"
    }
   ],
   "source": [
    "np.vstack([vec, mat.T])"
   ]
  },
  {
   "cell_type": "code",
   "execution_count": 159,
   "id": "5ba99041-d504-4cf3-9373-f9b085f059c2",
   "metadata": {},
   "outputs": [
    {
     "data": {
      "text/plain": [
       "array([[ 0,  1,  2],\n",
       "       [ 3,  4,  5],\n",
       "       [ 6,  7,  8],\n",
       "       [ 9, 10, 11],\n",
       "       [12, 13, 14]])"
      ]
     },
     "execution_count": 159,
     "metadata": {},
     "output_type": "execute_result"
    }
   ],
   "source": [
    "np.random.seed(2)\n",
    "mat = np.arange(15).reshape(5, 3)\n",
    "mat"
   ]
  },
  {
   "cell_type": "code",
   "execution_count": 160,
   "id": "6a58a306-5e6c-47f3-9b89-a6f9870ffc58",
   "metadata": {},
   "outputs": [
    {
     "data": {
      "text/plain": [
       "array([[0, 1, 2],\n",
       "       [3, 4, 5],\n",
       "       [6, 7, 8]])"
      ]
     },
     "execution_count": 160,
     "metadata": {},
     "output_type": "execute_result"
    }
   ],
   "source": [
    "mat[:3]"
   ]
  },
  {
   "cell_type": "code",
   "execution_count": 161,
   "id": "37509750-a7c6-4c7e-9f70-00984d2d12f5",
   "metadata": {},
   "outputs": [
    {
     "data": {
      "text/plain": [
       "array([[3, 4, 5],\n",
       "       [6, 7, 8]])"
      ]
     },
     "execution_count": 161,
     "metadata": {},
     "output_type": "execute_result"
    }
   ],
   "source": [
    "mat[1:3]"
   ]
  },
  {
   "cell_type": "code",
   "execution_count": 162,
   "id": "b0931e3c-453f-4ccd-88e9-456417534ff8",
   "metadata": {},
   "outputs": [
    {
     "data": {
      "text/plain": [
       "array([[ 0,  1],\n",
       "       [ 3,  4],\n",
       "       [ 6,  7],\n",
       "       [ 9, 10],\n",
       "       [12, 13]])"
      ]
     },
     "execution_count": 162,
     "metadata": {},
     "output_type": "execute_result"
    }
   ],
   "source": [
    "mat[:, :2]"
   ]
  },
  {
   "cell_type": "code",
   "execution_count": 163,
   "id": "e26d5015-c38a-409a-a758-a670d1a9c250",
   "metadata": {},
   "outputs": [
    {
     "data": {
      "text/plain": [
       "array([[3, 4],\n",
       "       [6, 7]])"
      ]
     },
     "execution_count": 163,
     "metadata": {},
     "output_type": "execute_result"
    }
   ],
   "source": [
    "mat[1:3, :2]"
   ]
  },
  {
   "cell_type": "code",
   "execution_count": 164,
   "id": "a2c03aa2-64e9-4d6d-86c4-71b88e03fcb0",
   "metadata": {},
   "outputs": [
    {
     "data": {
      "text/plain": [
       "array([[ 9, 10, 11],\n",
       "       [ 0,  1,  2],\n",
       "       [ 3,  4,  5]])"
      ]
     },
     "execution_count": 164,
     "metadata": {},
     "output_type": "execute_result"
    }
   ],
   "source": [
    "mat[[3, 0, 1]]"
   ]
  },
  {
   "cell_type": "code",
   "execution_count": 165,
   "id": "c4530dd9-e468-4f7d-8e00-2a2aa0322c5b",
   "metadata": {},
   "outputs": [
    {
     "data": {
      "text/plain": [
       "array([False,  True, False,  True, False])"
      ]
     },
     "execution_count": 165,
     "metadata": {},
     "output_type": "execute_result"
    }
   ],
   "source": [
    "mat[:, 0] % 2 == 1"
   ]
  },
  {
   "cell_type": "code",
   "execution_count": 166,
   "id": "07dab096-c19c-4fca-820f-15569f80bb13",
   "metadata": {},
   "outputs": [
    {
     "data": {
      "text/plain": [
       "array([[ 3,  4,  5],\n",
       "       [ 9, 10, 11]])"
      ]
     },
     "execution_count": 166,
     "metadata": {},
     "output_type": "execute_result"
    }
   ],
   "source": [
    "mat[mat[:, 0] % 2 == 1]"
   ]
  },
  {
   "cell_type": "raw",
   "id": "1aa79778-3cac-48d4-b8e9-217bbfaadb5e",
   "metadata": {},
   "source": [
    "Introduction to Numerical Computing with NumPy | SciPy 2019 Tutorial | Alex Chabot-Leclerc"
   ]
  },
  {
   "cell_type": "code",
   "execution_count": 174,
   "id": "3f74e9f8-f19f-4cc6-89fd-15f624a428e4",
   "metadata": {},
   "outputs": [
    {
     "name": "stdout",
     "output_type": "stream",
     "text": [
      "<class 'numpy.ndarray'>\n",
      "int64\n"
     ]
    }
   ],
   "source": [
    "a = np.array([1, 2, 3, 4, 5])\n",
    "print(type(a))\n",
    "print(a.dtype)"
   ]
  },
  {
   "cell_type": "code",
   "execution_count": 175,
   "id": "51b52bad-38f5-4e3f-b4ba-90db2fbfbf75",
   "metadata": {},
   "outputs": [
    {
     "data": {
      "text/plain": [
       "dtype('float64')"
      ]
     },
     "execution_count": 175,
     "metadata": {},
     "output_type": "execute_result"
    }
   ],
   "source": [
    "f = np.array([1.1, 2.1, 3.1, 4.1, 5.1])\n",
    "f.dtype"
   ]
  },
  {
   "cell_type": "code",
   "execution_count": 176,
   "id": "14105c73-4cbf-4896-8983-fc6849e8f888",
   "metadata": {},
   "outputs": [
    {
     "name": "stdout",
     "output_type": "stream",
     "text": [
      "1\n"
     ]
    }
   ],
   "source": [
    "print(a.ndim)"
   ]
  },
  {
   "cell_type": "code",
   "execution_count": 177,
   "id": "321acdd9-1aa0-496e-93c2-6c6765bc9540",
   "metadata": {},
   "outputs": [
    {
     "data": {
      "text/plain": [
       "(5,)"
      ]
     },
     "execution_count": 177,
     "metadata": {},
     "output_type": "execute_result"
    }
   ],
   "source": [
    "a.shape"
   ]
  },
  {
   "cell_type": "code",
   "execution_count": 178,
   "id": "3dd216f0-7af8-4e57-9d63-3cd2975970ff",
   "metadata": {},
   "outputs": [
    {
     "data": {
      "text/plain": [
       "5"
      ]
     },
     "execution_count": 178,
     "metadata": {},
     "output_type": "execute_result"
    }
   ],
   "source": [
    "a.size"
   ]
  },
  {
   "cell_type": "code",
   "execution_count": 179,
   "id": "a5a8c7f4-6242-4f0d-a174-02e947530599",
   "metadata": {},
   "outputs": [
    {
     "data": {
      "text/plain": [
       "array([ 2.1,  4.1,  6.1,  8.1, 10.1])"
      ]
     },
     "execution_count": 179,
     "metadata": {},
     "output_type": "execute_result"
    }
   ],
   "source": [
    "a + f"
   ]
  },
  {
   "cell_type": "code",
   "execution_count": 180,
   "id": "0bdc88b8-0553-4075-a820-65883a794718",
   "metadata": {},
   "outputs": [
    {
     "data": {
      "text/plain": [
       "array([ 1.1,  4.2,  9.3, 16.4, 25.5])"
      ]
     },
     "execution_count": 180,
     "metadata": {},
     "output_type": "execute_result"
    }
   ],
   "source": [
    "a * f"
   ]
  },
  {
   "cell_type": "code",
   "execution_count": 181,
   "id": "f3cb4a91-9d5d-41e5-8f3b-3a245e3870e5",
   "metadata": {},
   "outputs": [
    {
     "data": {
      "text/plain": [
       "array([0.90909091, 0.95238095, 0.96774194, 0.97560976, 0.98039216])"
      ]
     },
     "execution_count": 181,
     "metadata": {},
     "output_type": "execute_result"
    }
   ],
   "source": [
    "a / f"
   ]
  },
  {
   "cell_type": "code",
   "execution_count": 182,
   "id": "b88291e8-f03a-425c-88a7-f62aa888bc33",
   "metadata": {},
   "outputs": [
    {
     "data": {
      "text/plain": [
       "array([1.10000000e+00, 4.41000000e+00, 2.97910000e+01, 2.82576100e+02,\n",
       "       3.45025251e+03])"
      ]
     },
     "execution_count": 182,
     "metadata": {},
     "output_type": "execute_result"
    }
   ],
   "source": [
    "f ** a"
   ]
  },
  {
   "cell_type": "code",
   "execution_count": 183,
   "id": "85ae445d-63ab-43f3-a0f5-405a9644db35",
   "metadata": {},
   "outputs": [
    {
     "data": {
      "text/plain": [
       "array([1, 2, 3, 4, 5])"
      ]
     },
     "execution_count": 183,
     "metadata": {},
     "output_type": "execute_result"
    }
   ],
   "source": [
    "a"
   ]
  },
  {
   "cell_type": "code",
   "execution_count": 184,
   "id": "bd97a937-4e67-4499-8ec8-fa056ff029ba",
   "metadata": {},
   "outputs": [
    {
     "data": {
      "text/plain": [
       "array([10, 20, 30, 40, 50])"
      ]
     },
     "execution_count": 184,
     "metadata": {},
     "output_type": "execute_result"
    }
   ],
   "source": [
    "a * 10"
   ]
  },
  {
   "cell_type": "code",
   "execution_count": 185,
   "id": "1e123626-77a0-490d-9248-5fd3f409f0d6",
   "metadata": {},
   "outputs": [
    {
     "data": {
      "text/plain": [
       "array([ 0.84147098,  0.90929743,  0.14112001, -0.7568025 , -0.95892427])"
      ]
     },
     "execution_count": 185,
     "metadata": {},
     "output_type": "execute_result"
    }
   ],
   "source": [
    "np.sin(a)"
   ]
  },
  {
   "cell_type": "code",
   "execution_count": 186,
   "id": "e102cddc-16a7-4c54-b5a8-62679ea06bfe",
   "metadata": {},
   "outputs": [
    {
     "data": {
      "text/plain": [
       "array([[ 0,  1,  2,  3,  4],\n",
       "       [ 5,  6,  7,  8,  9],\n",
       "       [10, 11, 12, 13, 14],\n",
       "       [15, 16, 17, 18, 19],\n",
       "       [20, 21, 22, 23, 24]])"
      ]
     },
     "execution_count": 186,
     "metadata": {},
     "output_type": "execute_result"
    }
   ],
   "source": [
    "a = np.arange(25).reshape(5, 5)\n",
    "a"
   ]
  },
  {
   "cell_type": "code",
   "execution_count": 187,
   "id": "0fbccf4e-6716-4595-a00a-c46d36bf72e1",
   "metadata": {},
   "outputs": [
    {
     "data": {
      "text/plain": [
       "array([[ 1,  3],\n",
       "       [ 6,  8],\n",
       "       [11, 13],\n",
       "       [16, 18],\n",
       "       [21, 23]])"
      ]
     },
     "execution_count": 187,
     "metadata": {},
     "output_type": "execute_result"
    }
   ],
   "source": [
    "red = a[:,[1, 3]]\n",
    "red"
   ]
  },
  {
   "cell_type": "code",
   "execution_count": 188,
   "id": "8cb894b6-271e-4e34-b6d4-cc32c7997f9f",
   "metadata": {},
   "outputs": [
    {
     "data": {
      "text/plain": [
       "array([20, 21, 22, 23, 24])"
      ]
     },
     "execution_count": 188,
     "metadata": {},
     "output_type": "execute_result"
    }
   ],
   "source": [
    "yellow = a[4,:]\n",
    "yellow"
   ]
  },
  {
   "cell_type": "code",
   "execution_count": 190,
   "id": "df3a6a00-3c33-4f68-ab72-ab32dd43b64f",
   "metadata": {},
   "outputs": [
    {
     "data": {
      "text/plain": [
       "array([[ 5,  7],\n",
       "       [15, 17]])"
      ]
     },
     "execution_count": 190,
     "metadata": {},
     "output_type": "execute_result"
    }
   ],
   "source": [
    "blue = a[1::2,:3:2]\n",
    "blue"
   ]
  },
  {
   "cell_type": "raw",
   "id": "3f402f46-c8f3-412a-828f-4907abe65cad",
   "metadata": {},
   "source": [
    "Linear Algebra Refresher"
   ]
  },
  {
   "cell_type": "code",
   "execution_count": 192,
   "id": "023d1cf3-7bf4-4b44-9248-2628dfee03da",
   "metadata": {},
   "outputs": [],
   "source": [
    "u = np.array([2, 7, 5, 6])\n",
    "v = np.array([3, 4, 8, 6])"
   ]
  },
  {
   "cell_type": "code",
   "execution_count": 193,
   "id": "69f7adc3-4656-48a9-bd35-08ac1e075a65",
   "metadata": {},
   "outputs": [
    {
     "name": "stdout",
     "output_type": "stream",
     "text": [
      "[ 5 11 13 12]\n",
      "[-1  3 -3  0]\n",
      "[ 6  8 16 12]\n"
     ]
    }
   ],
   "source": [
    "print(u + v)\n",
    "print(u - v)\n",
    "print(2 * v)"
   ]
  },
  {
   "cell_type": "code",
   "execution_count": 201,
   "id": "7538cc0d-493f-4219-95fb-b96e0344f471",
   "metadata": {},
   "outputs": [
    {
     "name": "stdout",
     "output_type": "stream",
     "text": [
      "14.0\n",
      "14\n"
     ]
    }
   ],
   "source": [
    "# Vector-vector multiplication\n",
    "def vector_vector_multiplication(u, v):\n",
    "    assert u.shape[0] == v.shape[0]    \n",
    "    n = u.shape[0]\n",
    "    result = 0.0\n",
    "    for i in range(n):\n",
    "        result = result + u[i] * v[i]\n",
    "    return result\n",
    "\n",
    "u = np.array([2, 4, 5, 6])\n",
    "v = np.array([1, 0, 0, 2])\n",
    "\n",
    "print(vector_vector_multiplication(u, v))\n",
    "print(u.dot(v))"
   ]
  },
  {
   "cell_type": "code",
   "execution_count": 203,
   "id": "ea141e3b-b723-4810-9312-3dd9301e04bb",
   "metadata": {},
   "outputs": [
    {
     "name": "stdout",
     "output_type": "stream",
     "text": [
      "[14.  5.  5.]\n",
      "[14  5  5]\n"
     ]
    }
   ],
   "source": [
    "# Matrix-vector multiplication\n",
    "def matrix_vector_multiplication(U, v):\n",
    "    assert U.shape[1] == v.shape[0] \n",
    "    num_rows = U.shape[0]\n",
    "    result = np.zeros(num_rows)\n",
    "    for i in range(num_rows):\n",
    "        result[i] = vector_vector_multiplication(U[i], v)\n",
    "    return result\n",
    "\n",
    "U = np.array([\n",
    "    [2, 4, 5, 6],\n",
    "    [1, 2, 1, 2],\n",
    "    [3, 1, 2, 1]\n",
    "])\n",
    "\n",
    "v = np.array([1, 0, 0, 2])\n",
    "\n",
    "print(matrix_vector_multiplication(U, v))\n",
    "print(U.dot(v))"
   ]
  },
  {
   "cell_type": "code",
   "execution_count": 204,
   "id": "bfb44fe9-14aa-47e1-bd8f-151147b1941e",
   "metadata": {},
   "outputs": [
    {
     "name": "stdout",
     "output_type": "stream",
     "text": [
      "[[14.  25.  13. ]\n",
      " [ 5.   7.   5. ]\n",
      " [ 5.  10.5  9. ]]\n",
      "[[14.  25.  13. ]\n",
      " [ 5.   7.   5. ]\n",
      " [ 5.  10.5  9. ]]\n"
     ]
    }
   ],
   "source": [
    "# Matrix-matrix multiplication\n",
    "def matrix_matrix_multiplication(U, V):\n",
    "    assert U.shape[1] == V.shape[0]\n",
    "    num_rows = U.shape[0]\n",
    "    num_cols = V.shape[1]\n",
    "    result = np.zeros((num_rows, num_cols))\n",
    "    for i in range(num_cols):\n",
    "        vi = V[:, i]\n",
    "        Uvi = matrix_vector_multiplication(U, vi)\n",
    "        result[:, i] = Uvi\n",
    "    return result\n",
    "\n",
    "U = np.array([\n",
    "    [2, 4, 5, 6],\n",
    "    [1, 2, 1, 2],\n",
    "    [3, 1, 2, 1]\n",
    "])\n",
    " \n",
    "V = np.array([\n",
    "    [1, 1, 2],\n",
    "    [0, 0.5, 1],\n",
    "    [0, 3, 1],\n",
    "    [2, 1, 0]\n",
    "])\n",
    "\n",
    "print(matrix_matrix_multiplication(U, V))\n",
    "print(U.dot(V))"
   ]
  },
  {
   "cell_type": "code",
   "execution_count": 197,
   "id": "ff06bedb-42d3-470b-a369-d6cab57df120",
   "metadata": {},
   "outputs": [
    {
     "data": {
      "text/plain": [
       "array([[1., 0., 0.],\n",
       "       [0., 1., 0.],\n",
       "       [0., 0., 1.]])"
      ]
     },
     "execution_count": 197,
     "metadata": {},
     "output_type": "execute_result"
    }
   ],
   "source": [
    "# Identity matrix\n",
    "I = np.eye(3)\n",
    "I"
   ]
  },
  {
   "cell_type": "code",
   "execution_count": 199,
   "id": "3fc4bf90-1a4b-4268-ac11-9b422d698169",
   "metadata": {},
   "outputs": [
    {
     "data": {
      "text/plain": [
       "array([[ 1.        , -2.        ,  0.        ],\n",
       "       [ 0.        , -0.66666667,  0.66666667],\n",
       "       [ 0.        ,  1.33333333, -0.33333333]])"
      ]
     },
     "execution_count": 199,
     "metadata": {},
     "output_type": "execute_result"
    }
   ],
   "source": [
    "# Inverse matrix\n",
    "V = np.array([\n",
    "    [1, 1, 2],\n",
    "    [0, 0.5, 1], \n",
    "    [0, 2, 1],\n",
    "])\n",
    "inv = np.linalg.inv(V)\n",
    "inv"
   ]
  },
  {
   "cell_type": "code",
   "execution_count": 205,
   "id": "2b9bceed-13dd-4425-bfb7-32516f88f394",
   "metadata": {},
   "outputs": [
    {
     "name": "stdout",
     "output_type": "stream",
     "text": [
      "[[1. 0. 0.]\n",
      " [0. 1. 0.]\n",
      " [0. 0. 1.]]\n",
      "[[1.  1.  2. ]\n",
      " [0.  0.5 1. ]\n",
      " [0.  3.  1. ]\n",
      " [2.  1.  0. ]]\n",
      "[[ True  True  True]\n",
      " [ True  True  True]\n",
      " [ True  True  True]\n",
      " [ True  True  True]]\n"
     ]
    }
   ],
   "source": [
    "I = np.eye(3)\n",
    "print(I)\n",
    "\n",
    "V = np.array([\n",
    "    [1, 1, 2],\n",
    "    [0, 0.5, 1],\n",
    "    [0, 3, 1],\n",
    "    [2, 1, 0]\n",
    "])\n",
    " \n",
    "print(V.dot(I))\n",
    "print(V.dot(I) == V)"
   ]
  },
  {
   "cell_type": "code",
   "execution_count": 208,
   "id": "cedd4b17-6e7f-46a3-acdf-b3833aec5a6a",
   "metadata": {},
   "outputs": [
    {
     "name": "stdout",
     "output_type": "stream",
     "text": [
      "[[ 1.  -2.   0. ]\n",
      " [ 0.  -0.4  0.4]\n",
      " [ 0.   1.2 -0.2]]\n",
      "[[1. 0. 0.]\n",
      " [0. 1. 0.]\n",
      " [0. 0. 1.]]\n"
     ]
    }
   ],
   "source": [
    "# only squared matrices has an inverse matrix\n",
    "V = np.array([\n",
    "    [1, 1, 2],\n",
    "    [0, 0.5, 1],\n",
    "    [0, 3, 1]\n",
    "])\n",
    "\n",
    "# there is a function in numpy available that returns the inverse of a squared matrix\n",
    "V_inv = np.linalg.inv(V)\n",
    "print(V_inv)\n",
    " \n",
    "# just to check that V_inv.dot(V) == I\n",
    "print(V.dot(V_inv))"
   ]
  }
 ],
 "metadata": {
  "kernelspec": {
   "display_name": "ml-zoomcamp",
   "language": "python",
   "name": "ml-zoomcamp"
  },
  "language_info": {
   "codemirror_mode": {
    "name": "ipython",
    "version": 3
   },
   "file_extension": ".py",
   "mimetype": "text/x-python",
   "name": "python",
   "nbconvert_exporter": "python",
   "pygments_lexer": "ipython3",
   "version": "3.11.9"
  }
 },
 "nbformat": 4,
 "nbformat_minor": 5
}
